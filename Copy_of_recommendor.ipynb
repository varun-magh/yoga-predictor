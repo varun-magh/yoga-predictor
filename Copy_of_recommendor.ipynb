{
  "nbformat": 4,
  "nbformat_minor": 0,
  "metadata": {
    "colab": {
      "provenance": []
    },
    "kernelspec": {
      "name": "python3",
      "display_name": "Python 3"
    },
    "language_info": {
      "name": "python"
    }
  },
  "cells": [
    {
      "cell_type": "code",
      "metadata": {
        "id": "6CvWw74csN0X"
      },
      "source": [
        "# weights.h5 file has been added to drive update path to it over here to use the saved weights\n",
        "model = keras.models.load_model('/content/weight.h5')"
      ],
      "execution_count": null,
      "outputs": []
    },
    {
      "cell_type": "code",
      "metadata": {
        "id": "KTzvCpcLwspg"
      },
      "source": [
        "# change i over here to get results corresponding to benefits[i]\n",
        "# asan[i] denotes the asan coreesponding to it in the book\n",
        "# i=69\n",
        "# y = model.predict(benefits[i])\n",
        "# z = np.sum(y,axis=0)\n",
        "# z = z/50\n",
        "# asan[i]"
      ],
      "execution_count": null,
      "outputs": []
    },
    {
      "cell_type": "code",
      "metadata": {
        "id": "-pj-o-1tw29P"
      },
      "source": [
        "# Gives the number of asan with max probability and its probability \n",
        "# max=0\n",
        "# max_i=0\n",
        "# for i in range(239):\n",
        "#   if z[i]>max:\n",
        "#     max=z[i]\n",
        "#     max_i=i\n",
        "# print(max)\n",
        "# print(max_i+1)"
      ],
      "execution_count": null,
      "outputs": []
    },
    {
      "cell_type": "code",
      "metadata": {
        "colab": {
          "base_uri": "https://localhost:8080/"
        },
        "id": "PeqQ-5OQl_D3",
        "outputId": "7468d5a9-a7a5-46b5-f676-7c219aad36c0"
      },
      "source": [
        "from google.colab import drive\n",
        "drive.mount('/content/drive')"
      ],
      "execution_count": null,
      "outputs": [
        {
          "output_type": "stream",
          "name": "stdout",
          "text": [
            "Mounted at /content/drive\n"
          ]
        }
      ]
    },
    {
      "cell_type": "code",
      "metadata": {
        "id": "D4fu01wEmiCN"
      },
      "source": [
        "data = '/content/final_asan1_1.csv'\n",
        "# data = 'final_asan1.csv'"
      ],
      "execution_count": null,
      "outputs": []
    },
    {
      "cell_type": "code",
      "metadata": {
        "id": "-1TeNmLvn03Q"
      },
      "source": [
        "import re\n",
        "from textblob import TextBlob\n",
        "import nltk\n",
        "from nltk.stem import WordNetLemmatizer\n",
        "from nltk.corpus import stopwords\n",
        "from gensim.parsing.preprocessing import remove_stopwords"
      ],
      "execution_count": null,
      "outputs": []
    },
    {
      "cell_type": "code",
      "metadata": {
        "id": "ytW04DE2-b0I"
      },
      "source": [
        "benefits = []\n",
        "contra = []\n",
        "asan = []"
      ],
      "execution_count": null,
      "outputs": []
    },
    {
      "cell_type": "code",
      "metadata": {
        "id": "fI-qAj0k7lDj"
      },
      "source": [
        "import csv\n",
        "\n",
        "with open(data,'r') as file:\n",
        "  reader = csv.reader(file)\n",
        "  for row in reader:\n",
        "    benefits.append(row[5])\n",
        "    contra.append(row[6])\n",
        "    asan.append(row[1])"
      ],
      "execution_count": null,
      "outputs": []
    },
    {
      "cell_type": "code",
      "metadata": {
        "id": "1e00iuAJ_cDb"
      },
      "source": [
        "input_1=[]\n",
        "input_2=[]\n",
        "output=[]\n",
        "data = []"
      ],
      "execution_count": null,
      "outputs": []
    },
    {
      "cell_type": "code",
      "metadata": {
        "id": "q0kpleeq-A6e"
      },
      "source": [
        "for i in range (len(benefits)):\n",
        "  line = benefits[i]\n",
        "  line = line.lower()\n",
        "  line = re.sub(r'[^A-Za-z\\n]+', ' ', line)\n",
        "  line = remove_stopwords(line)\n",
        "  line = line.replace(\"benefits\",\"\")\n",
        "  input_1.append(line)\n",
        "  data.append(line)\n",
        "  line = contra[i]\n",
        "  line = line.lower()\n",
        "  line = re.sub(r'[^A-Za-z\\n]+', ' ', line)\n",
        "  line = remove_stopwords(line)\n",
        "  line = line.replace(\"contra\",\"\")\n",
        "  line = line.replace(\"indications\",\"\")\n",
        "  input_2.append(line)\n",
        "  data.append(line)\n",
        "  line = asan[i]\n",
        "  line = line.replace(\" \",\"\")\n",
        "  output.append(line)"
      ],
      "execution_count": null,
      "outputs": []
    },
    {
      "cell_type": "code",
      "metadata": {
        "colab": {
          "base_uri": "https://localhost:8080/",
          "height": 142
        },
        "id": "NcCuyLM75QD8",
        "outputId": "cd411208-0a33-4f12-fb77-9fe4fc55fa5b"
      },
      "source": [
        "input_1[1]"
      ],
      "execution_count": null,
      "outputs": [
        {
          "output_type": "execute_result",
          "data": {
            "application/vnd.google.colaboratory.intrinsic+json": {
              "type": "string"
            },
            "text/plain": [
              "' technique increases awareness sensitivity breath nostrils minor blockages removed flow breath nostrils balanced breathing left nostril tends activate right brain hemisphere breathing right nostril activates left hemisphere long slow balanced breathing stage profound effects calming balancing energies practice  technique gives pronounced balancing breath brain hemispheres calming effects relieves anxiety improves concentration stimulates ajna chakra ratio stage establishes calming rhythm brain heart assisting people cardiovascular nervous disorders specifically stress related condi tions generally count extended breath slows respiration efficient air flow smoother turbulent ratio helps people respiratory problems asthma emphysema bronchitis ratio stage gives profound relaxation heartbeat pulse rate slow blood pressure drops extension count built slowly technique  inner retention breath characterizes technique activates brain centres harmonizes pranas  increase progression ratios ratio widely recommended yogic texts gives profound psychological pranic effects preparation kundalini awakening advanced  ratio bandhas purifies balances pranic forces technique  nadi shodhana ensures body nourished extra supply oxygen carbon dioxide efficiently expelled blood purified toxins brain centres stimulated work nearer optimum capacity induces tranquillity clarity thought concentration recommended engaged mental work increases vitality lowers levels stress anxiety harmonizing pranas clears pranic blockages balances idaand pingala nadis causing sushumna nadi flow leads deep states meditation spiritual awakening practice  practice cools body affects important brain centres associated biological drives tem perature regulation cools reduces mental emotional excitation encourages free flowof prana body induces muscular relaxation mental tranquillity tranquillizer sleep gives control hunger thirst generates feeling satisfaction practice'"
            ]
          },
          "metadata": {
            "tags": []
          },
          "execution_count": 33
        }
      ]
    },
    {
      "cell_type": "code",
      "metadata": {
        "colab": {
          "base_uri": "https://localhost:8080/",
          "height": 107
        },
        "id": "yMx26rB85Vxg",
        "outputId": "03e9dcd4-4703-4191-eff0-e6a14fb211ca"
      },
      "source": [
        "input_2[1]"
      ],
      "execution_count": null,
      "outputs": [
        {
          "output_type": "execute_result",
          "data": {
            "application/vnd.google.colaboratory.intrinsic+json": {
              "type": "string"
            },
            "text/plain": [
              "'  nadi shodhana practised suffering colds flu fever   stage technique begins process ofintroversion recommended fora depressed withdrawn person extension stage involving longer counts recommended people heart problems   technique suitable women later half pregnancy recommended persons heart problems high blood pressure emphy sema major disorders stage recommended asthmatics   people suffering low blood pressure respiratory disorders asthma bronchitis excessive mucous practise pranayama heart disease practise breath retention practice cools activity lower energy centres suffering chronic stipation avoid generally pranayama practised winter cool climates'"
            ]
          },
          "metadata": {
            "tags": []
          },
          "execution_count": 34
        }
      ]
    },
    {
      "cell_type": "code",
      "metadata": {
        "colab": {
          "base_uri": "https://localhost:8080/",
          "height": 36
        },
        "id": "dcHBNgqc5ZM6",
        "outputId": "5b917b48-ec42-453a-8601-f7d0d7e7c584"
      },
      "source": [
        "output[1]"
      ],
      "execution_count": null,
      "outputs": [
        {
          "output_type": "execute_result",
          "data": {
            "application/vnd.google.colaboratory.intrinsic+json": {
              "type": "string"
            },
            "text/plain": [
              "'ABDOMINALBREATHING'"
            ]
          },
          "metadata": {
            "tags": []
          },
          "execution_count": 35
        }
      ]
    },
    {
      "cell_type": "code",
      "metadata": {
        "id": "8iXxslfC_qxy"
      },
      "source": [
        "from keras.preprocessing.text import Tokenizer\n",
        "from tensorflow.keras.preprocessing.sequence import pad_sequences\n",
        "import tensorflow as tf\n",
        "from keras.utils import np_utils\n",
        "from tensorflow import keras\n",
        "import keras.backend as K\n",
        "import numpy as np\n",
        "\n",
        "oov_token = \"<OOV>\" \n",
        "embed_size = 20"
      ],
      "execution_count": null,
      "outputs": []
    },
    {
      "cell_type": "code",
      "metadata": {
        "colab": {
          "base_uri": "https://localhost:8080/"
        },
        "id": "VbALHZAuBxrB",
        "outputId": "baebc0c4-0351-4a3e-ef1e-2a281226e5ad"
      },
      "source": [
        "tokenizer = Tokenizer(oov_token=oov_token)\n",
        "tokenizer.fit_on_texts(data)\n",
        "word_index = tokenizer.word_index\n",
        "sequence = tokenizer.texts_to_sequences(data)\n",
        "\n",
        "print(len(word_index))"
      ],
      "execution_count": null,
      "outputs": [
        {
          "output_type": "stream",
          "text": [
            "2349\n"
          ],
          "name": "stdout"
        }
      ]
    },
    {
      "cell_type": "code",
      "metadata": {
        "id": "rlXufT7iB7Kk"
      },
      "source": [
        "vocab_size = len(word_index)"
      ],
      "execution_count": null,
      "outputs": []
    },
    {
      "cell_type": "code",
      "metadata": {
        "id": "X1ZCWSdtCCCY"
      },
      "source": [
        "index_to_word_map = {}\n",
        "for word,index in word_index.items():\n",
        "  index_to_word_map[index] = word"
      ],
      "execution_count": null,
      "outputs": []
    },
    {
      "cell_type": "code",
      "metadata": {
        "colab": {
          "base_uri": "https://localhost:8080/"
        },
        "id": "0oYhX-96CEAx",
        "outputId": "8f303500-94db-4297-93c4-8e81b2b0d06a"
      },
      "source": [
        "print('Vocabulary Sample:', list(word_index.items()))"
      ],
      "execution_count": null,
      "outputs": [
        {
          "output_type": "stream",
          "text": [
            "Vocabulary Sample: [('<OOV>', 1), ('asana', 2), ('practice', 3), ('people', 4), ('muscles', 5), ('blood', 6), ('body', 7), ('pressure', 8), ('organs', 9), ('high', 10), ('practise', 11), ('abdominal', 12), ('heart', 13), ('asanas', 14), ('suffering', 15), ('helps', 16), ('strengthens', 17), ('practised', 18), ('sciatica', 19), ('balance', 20), ('tones', 21), ('legs', 22), ('energy', 23), ('problems', 24), ('nerves', 25), ('spine', 26), ('hernia', 27), ('arms', 28), ('mudra', 29), ('nervous', 30), ('stimulates', 31), ('neck', 32), ('conditions', 33), ('improves', 34), ('meditation', 35), ('slipped', 36), ('disc', 37), ('lower', 38), ('position', 39), ('spinal', 40), ('forward', 41), ('mind', 42), ('stretches', 43), ('inverted', 44), ('right', 45), ('pelvic', 46), ('variation', 47), ('performed', 48), ('knees', 49), ('pose', 50), ('develops', 51), ('digestive', 52), ('bending', 53), ('shoulders', 54), ('postures', 55), ('brain', 56), ('pregnancy', 57), ('especially', 58), ('perform', 59), ('tension', 60), ('disease', 61), ('massages', 62), ('weak', 63), ('circulation', 64), ('flow', 65), ('gives', 66), ('mental', 67), ('knee', 68), ('feet', 69), ('useful', 70), ('chakra', 71), ('posture', 72), ('chest', 73), ('leg', 74), ('constipation', 75), ('head', 76), ('good', 77), ('physical', 78), ('region', 79), ('awareness', 80), ('area', 81), ('hips', 82), ('eye', 83), ('apply', 84), ('breath', 85), ('concentration', 86), ('generally', 87), ('induces', 88), ('abdomen', 89), ('peptic', 90), ('stretch', 91), ('sense', 92), ('reproductive', 93), ('left', 94), ('disorders', 95), ('prana', 96), ('liver', 97), ('excellent', 98), ('bend', 99), ('spiritual', 100), ('shoulder', 101), ('ailments', 102), ('beneficial', 103), ('ulcer', 104), ('joints', 105), ('floor', 106), ('time', 107), ('effect', 108), ('thighs', 109), ('relieves', 110), ('vertigo', 111), ('supple', 112), ('stomach', 113), ('hands', 114), ('balances', 115), ('avoid', 116), ('cervical', 117), ('makes', 118), ('suffer', 119), ('state', 120), ('increases', 121), ('recommended', 122), ('guidance', 123), ('competent', 124), ('teacher', 125), ('cautions', 126), ('bandha', 127), ('surya', 128), ('namaskara', 129), ('glands', 130), ('weight', 131), ('technique', 132), ('relaxation', 133), ('pranic', 134), ('nadi', 135), ('thyroid', 136), ('addition', 137), ('hip', 138), ('control', 139), ('pranayama', 140), ('health', 141), ('entire', 142), ('attempted', 143), ('removes', 144), ('flexibility', 145), ('long', 146), ('advanced', 147), ('women', 148), ('hold', 149), ('kidneys', 150), ('level', 151), ('intestinal', 152), ('avoided', 153), ('paschimottanasana', 154), ('flexible', 155), ('relieving', 156), ('muscular', 157), ('chronic', 158), ('gland', 159), ('pain', 160), ('strong', 161), ('psychic', 162), ('attempt', 163), ('relax', 164), ('strain', 165), ('raise', 166), ('upper', 167), ('stimulating', 168), ('systems', 169), ('backward', 170), ('eyes', 171), ('buttocks', 172), ('anxiety', 173), ('spondylitis', 174), ('arm', 175), ('note', 176), ('adrenal', 177), ('sexual', 178), ('manipura', 179), ('comfortable', 180), ('glaucoma', 181), ('toning', 182), ('relieve', 183), ('group', 184), ('leading', 185), ('practices', 186), ('neti', 187), ('activates', 188), ('stress', 189), ('respiratory', 190), ('emotional', 191), ('process', 192), ('ulcers', 193), ('stiffness', 194), ('ankles', 195), ('vertebrae', 196), ('regulates', 197), ('pancreas', 198), ('thigh', 199), ('place', 200), ('complaints', 201), ('mooladhara', 202), ('help', 203), ('remove', 204), ('backache', 205), ('excess', 206), ('improving', 207), ('intestines', 208), ('loosens', 209), ('fingers', 210), ('strenuous', 211), ('asthma', 212), ('inner', 213), ('increase', 214), ('vitality', 215), ('deep', 216), ('states', 217), ('alleviates', 218), ('release', 219), ('meditative', 220), ('sit', 221), ('thrombosis', 222), ('foot', 223), ('toned', 224), ('moola', 225), ('maha', 226), ('anger', 227), ('surgery', 228), ('healthy', 229), ('column', 230), ('ing', 231), ('general', 232), ('menstruation', 233), ('trunk', 234), ('straight', 235), ('condition', 236), ('sirshasana', 237), ('balanced', 238), ('breathing', 239), ('stage', 240), ('balancing', 241), ('slowly', 242), ('preparation', 243), ('awakening', 244), ('toxins', 245), ('nadis', 246), ('reduces', 247), ('encourages', 248), ('persons', 249), ('relaxes', 250), ('s', 251), ('vajrasana', 252), ('severe', 253), ('final', 254), ('tuberculosis', 255), ('practitioner', 256), ('menstrual', 257), ('pelvis', 258), ('exercise', 259), ('stretching', 260), ('bring', 261), ('chakras', 262), ('increased', 263), ('nostrils', 264), ('blockages', 265), ('effects', 266), ('related', 267), ('air', 268), ('retention', 269), ('pingala', 270), ('leads', 271), ('important', 272), ('associated', 273), ('appetite', 274), ('blades', 275), ('awaken', 276), ('calms', 277), ('develop', 278), ('secretions', 279), ('given', 280), ('reduced', 281), ('movement', 282), ('vajroli', 283), ('wrists', 284), ('sage', 285), ('normal', 286), ('point', 287), ('bringing', 288), ('possible', 289), ('influence', 290), ('inducing', 291), ('ligaments', 292), ('correct', 293), ('sun', 294), ('internal', 295), ('form', 296), ('gently', 297), ('gravity', 298), ('starting', 299), ('prolapse', 300), ('lungs', 301), ('impure', 302), ('calming', 303), ('bandhas', 304), ('stimulated', 305), ('thought', 306), ('levels', 307), ('sleep', 308), ('generates', 309), ('stiff', 310), ('depression', 311), ('acute', 312), ('duodenal', 313), ('pregnant', 314), ('helpful', 315), ('injured', 316), ('alleviating', 317), ('hyperthyroidism', 318), ('padmasana', 319), ('ardha', 320), ('particularly', 321), ('giving', 322), ('coordination', 323), ('advised', 324), ('redirects', 325), ('purposes', 326), ('post', 327), ('stand', 328), ('sitting', 329), ('diabetic', 330), ('retinopathy', 331), ('cataract', 332), ('lens', 333), ('wind', 334), ('ailment', 335), ('removing', 336), ('world', 337), ('dynamic', 338), ('massaging', 339), ('steady', 340), ('practising', 341), ('carefully', 342), ('contra', 343), ('bhujangasana', 344), ('great', 345), ('endocrine', 346), ('increasing', 347), ('slightly', 348), ('prevent', 349), ('nose', 350), ('limbs', 351), ('sacral', 352), ('nasal', 353), ('improve', 354), ('stages', 355), ('viewing', 356), ('removed', 357), ('profound', 358), ('energies', 359), ('ajna', 360), ('centres', 361), ('purifies', 362), ('work', 363), ('tranquillity', 364), ('major', 365), ('low', 366), ('excessive', 367), ('digestion', 368), ('samana', 369), ('preparatory', 370), ('exercises', 371), ('tendency', 372), ('halasana', 373), ('stimulate', 374), ('upward', 375), ('vajra', 376), ('force', 377), ('power', 378), ('attitude', 379), ('helping', 380), ('maintain', 381), ('raised', 382), ('hand', 383), ('fixed', 384), ('repeat', 385), ('stability', 386), ('stroke', 387), ('jalandhara', 388), ('implant', 389), ('creates', 390), ('infections', 391), ('making', 392), ('perineum', 393), ('months', 394), ('chakrasana', 395), ('functioning', 396), ('handed', 397), ('easily', 398), ('face', 399), ('observe', 400), ('indications', 401), ('ground', 402), ('experience', 403), ('peristalsis', 404), ('visceral', 405), ('veins', 406), ('twist', 407), ('tiredness', 408), ('waist', 409), ('female', 410), ('shavasana', 411), ('palms', 412), ('function', 413), ('simple', 414), ('jala', 415), ('mucus', 416), ('sinuses', 417), ('heat', 418), ('releases', 419), ('allows', 420), ('ratio', 421), ('tions', 422), ('respiration', 423), ('bronchitis', 424), ('rate', 425), ('pranas', 426), ('kundalini', 427), ('supply', 428), ('oxygen', 429), ('capacity', 430), ('feeling', 431), ('half', 432), ('sure', 433), ('relaxing', 434), ('shambhavi', 435), ('processes', 436), ('consciousness', 437), ('epilepsy', 438), ('simultaneously', 439), ('inflammatory', 440), ('shalabhasana', 441), ('positions', 442), ('sahajoli', 443), ('means', 444), ('spontaneous', 445), ('reverses', 446), ('brahmacharya', 447), ('period', 448), ('cerebral', 449), ('upright', 450), ('outside', 451), ('round', 452), ('influences', 453), ('following', 454), ('operations', 455), ('healing', 456), ('soothing', 457), ('ear', 458), ('stagnant', 459), ('illness', 460), ('massaged', 461), ('improved', 462), ('diabetes', 463), ('colitis', 464), ('periods', 465), ('centre', 466), ('directly', 467), ('learned', 468), ('patterns', 469), ('life', 470), ('active', 471), ('regular', 472), ('dis', 473), ('coronary', 474), ('including', 475), ('open', 476), ('apart', 477), ('mentally', 478), ('hamstring', 479), ('twisting', 480), ('alternately', 481), ('known', 482), ('preliminary', 483), ('prolonged', 484), ('elbows', 485), ('support', 486), ('flat', 487), ('arthritis', 488), ('diaphragm', 489), ('spleen', 490), ('activities', 491), ('bsy', 492), ('joint', 493), ('throat', 494), ('nerve', 495), ('individual', 496), ('nasikagra', 497), ('drishti', 498), ('kapalbhati', 499), ('sarvangasana', 500), ('physically', 501), ('siddhasana', 502), ('unmani', 503), ('slow', 504), ('specifically', 505), ('extended', 506), ('yogic', 507), ('ensures', 508), ('carbon', 509), ('dioxide', 510), ('clarity', 511), ('harmonizing', 512), ('cools', 513), ('suitable', 514), ('kriya', 515), ('raises', 516), ('pres', 517), ('refrain', 518), ('postural', 519), ('kumbhaka', 520), ('ujjayi', 521), ('alternative', 522), ('lumbago', 523), ('beginners', 524), ('backs', 525), ('tone', 526), ('morning', 527), ('ankle', 528), ('pre', 529), ('psycho', 530), ('thoughts', 531), ('root', 532), ('apana', 533), ('king', 534), ('compression', 535), ('utthita', 536), ('focus', 537), ('close', 538), ('straighten', 539), ('chin', 540), ('hamstrings', 541), ('basically', 542), ('cord', 543), ('order', 544), ('raising', 545), ('diseases', 546), ('takes', 547), ('uterus', 548), ('alleviate', 549), ('water', 550), ('excretory', 551), ('contact', 552), ('series', 553), ('behaviour', 554), ('yoga', 555), ('effective', 556), ('way', 557), ('complete', 558), ('techniques', 559), ('inflammation', 560), ('cases', 561), ('care', 562), ('circulatory', 563), ('growing', 564), ('movements', 565), ('facing', 566), ('sides', 567), ('feel', 568), ('pulled', 569), ('harmony', 570), ('tion', 571), ('plexus', 572), ('strained', 573), ('varicose', 574), ('coccyx', 575), ('metabolic', 576), ('pada', 577), ('turn', 578), ('return', 579), ('problem', 580), ('mastered', 581), ('use', 582), ('exhalation', 583), ('separated', 584), ('positive', 585), ('relaxed', 586), ('placing', 587), ('strengthen', 588), ('indigestion', 589), ('gas', 590), ('spondylosis', 591), ('advice', 592), ('revitalizes', 593), ('immune', 594), ('circuit', 595), ('ears', 596), ('light', 597), ('bleeding', 598), ('carotid', 599), ('intracranial', 600), ('mouth', 601), ('realign', 602), ('rounded', 603), ('brings', 604), ('shakti', 605), ('flatulence', 606), ('fully', 607), ('accumulated', 608), ('lumbar', 609), ('sciatic', 610), ('piles', 611), ('forms', 612), ('lotus', 613), ('keeping', 614), ('clear', 615), ('revitalizing', 616), ('pituitary', 617), ('arteriosclerosis', 618), ('enlarged', 619), ('vessels', 620), ('nauli', 621), ('far', 622), ('lateral', 623), ('strength', 624), ('mus', 625), ('cles', 626), ('discs', 627), ('stretched', 628), ('hemispheres', 629), ('extension', 630), ('psychological', 631), ('extra', 632), ('efficiently', 633), ('expelled', 634), ('purified', 635), ('causing', 636), ('sushumna', 637), ('affects', 638), ('free', 639), ('fever', 640), ('longer', 641), ('later', 642), ('activity', 643), ('lethargy', 644), ('cramp', 645), ('khechari', 646), ('calmness', 647), ('higher', 648), ('releasing', 649), ('spasms', 650), ('adjoining', 651), ('cross', 652), ('daily', 653), ('anal', 654), ('uro', 655), ('genital', 656), ('prac', 657), ('directing', 658), ('dedicated', 659), ('children', 660), ('developed', 661), ('early', 662), ('operative', 663), ('delivery', 664), ('streng', 665), ('thens', 666), ('aids', 667), ('toe', 668), ('gaze', 669), ('jnana', 670), ('coordinates', 671), ('strengthened', 672), ('ed', 673), ('circu', 674), ('lion', 675), ('doshas', 676), ('bhastrika', 677), ('retinal', 678), ('lung', 679), ('recovering', 680), ('introverts', 681), ('induce', 682), ('tive', 683), ('planes', 684), ('bhramari', 685), ('sound', 686), ('gynaecological', 687), ('enables', 688), ('contract', 689), ('strongly', 690), ('automatically', 691), ('regulating', 692), ('hormonal', 693), ('tired', 694), ('loosening', 695), ('activated', 696), ('freeing', 697), ('sympathetic', 698), ('large', 699), ('habitual', 700), ('vital', 701), ('preparing', 702), ('resulting', 703), ('start', 704), ('vitalizing', 705), ('solar', 706), ('subtle', 707), ('hours', 708), ('day', 709), ('section', 710), ('described', 711), ('program', 712), ('number', 713), ('metabolism', 714), ('minutes', 715), ('fresh', 716), ('ideal', 717), ('aware', 718), ('soles', 719), ('tensions', 720), ('inside', 721), ('parts', 722), ('diges', 723), ('efficiency', 724), ('bodies', 725), ('compresses', 726), ('repro', 727), ('ductive', 728), ('compressing', 729), ('allow', 730), ('specific', 731), ('managing', 732), ('knots', 733), ('counterbalance', 734), ('placed', 735), ('lowering', 736), ('rounds', 737), ('opened', 738), ('opening', 739), ('utilized', 740), ('groups', 741), ('away', 742), ('introversion', 743), ('result', 744), ('unable', 745), ('fear', 746), ('curve', 747), ('shape', 748), ('allowing', 749), ('advisable', 750), ('doctor', 751), ('pawanmuktasana', 752), ('male', 753), ('strictly', 754), ('moving', 755), ('peace', 756), ('promotes', 757), ('kidney', 758), ('development', 759), ('seek', 760), ('sinusitis', 761), ('arteries', 762), ('main', 763), ('normally', 764), ('osteoarthritis', 765), ('activating', 766), ('janu', 767), ('caused', 768), ('cm', 769), ('adjustment', 770), ('colon', 771), ('experienced', 772), ('prepares', 773), ('points', 774), ('prior', 775), ('bheda', 776), ('vishuddhi', 777), ('precautions', 778), ('uddiyana', 779), ('intensifies', 780), ('skin', 781), ('powerful', 782), ('awakens', 783), ('remain', 784), ('vertebral', 785), ('manduki', 786), ('disturbances', 787), ('effort', 788), ('weakness', 789), ('difficult', 790), ('lightness', 791), ('similar', 792), ('lean', 793), ('standing', 794), ('bones', 795), ('fluid', 796), ('areas', 797), ('near', 798), ('sightedness', 799), ('neuro', 800), ('old', 801), ('practitioners', 802), ('hypertension', 803), ('drainage', 804), ('opens', 805), ('held', 806), ('instead', 807), ('confidence', 808), ('encourage', 809), ('thinking', 810), ('pratyahara', 811), ('causes', 812), ('external', 813), ('basic', 814), ('strengthening', 815), ('relief', 816), ('shashankasana', 817), ('imbalances', 818), ('sutra', 819), ('shankhaprakshalana', 820), ('emerge', 821), ('seconds', 822), ('maintenance', 823), ('contraction', 824), ('trataka', 825), ('sideways', 826), ('functions', 827), ('contributing', 828), ('nostril', 829), ('tends', 830), ('activate', 831), ('hemisphere', 832), ('establishes', 833), ('rhythm', 834), ('assisting', 835), ('cardiovascular', 836), ('condi', 837), ('count', 838), ('slows', 839), ('harmonizes', 840), ('shodhana', 841), ('optimum', 842), ('lowers', 843), ('clears', 844), ('regulation', 845), ('hunger', 846), ('thirst', 847), ('colds', 848), ('flu', 849), ('person', 850), ('asthmatics', 851), ('cool', 852), ('agnisara', 853), ('overactive', 854), ('short', 855), ('subconscious', 856), ('combines', 857), ('senses', 858), ('perfected', 859), ('arrests', 860), ('primarily', 861), ('ashwa', 862), ('sanchalanasana', 863), ('structure', 864), ('feelings', 865), ('congestion', 866), ('injuries', 867), ('contracting', 868), ('duces', 869), ('calcium', 870), ('deposits', 871), ('druta', 872), ('poses', 873), ('comfortably', 874), ('legged', 875), ('overcome', 876), ('word', 877), ('derived', 878), ('sanskrit', 879), ('thunderbolt', 880), ('lightning', 881), ('astavakra', 882), ('womb', 883), ('father', 884), ('born', 885), ('pass', 886), ('spiritually', 887), ('hasta', 888), ('padangusthasana', 889), ('big', 890), ('bent', 891), ('pull', 892), ('closer', 893), ('rectifies', 894), ('lation', 895), ('aspirants', 896), ('total', 897), ('simhasana', 898), ('roaring', 899), ('pos', 900), ('simhagarjanasana', 901), ('adopt', 902), ('enter', 903), ('gastric', 904), ('elderly', 905), ('trimester', 906), ('bhoochari', 907), ('memory', 908), ('tranquillizes', 909), ('medita', 910), ('insomnia', 911), ('voice', 912), ('lying', 913), ('ovaries', 914), ('conservation', 915), ('recovery', 916), ('glandular', 917), ('hydrocele', 918), ('dislocation', 919), ('alimentary', 920), ('canal', 921), ('reconditioned', 922), ('dyspepsia', 923), ('sluggishness', 924), ('management', 925), ('realigned', 926), ('dhanurasana', 927), ('thoracic', 928), ('night', 929), ('easy', 930), ('sustain', 931), ('brought', 932), ('said', 933), ('connected', 934), ('urinary', 935), ('counter', 936), ('ance', 937), ('salutations', 938), ('times', 939), ('channel', 940), ('hatha', 941), ('added', 942), ('loosen', 943), ('application', 944), ('expansion', 945), ('sadhana', 946), ('includes', 947), ('flows', 948), ('performance', 949), ('complex', 950), ('produces', 951), ('component', 952), ('en', 953), ('padahastasana', 954), ('reverse', 955), ('immediately', 956), ('boils', 957), ('resumed', 958), ('artery', 959), ('eases', 960), ('damage', 961), ('consult', 962), ('medical', 963), ('ex', 964), ('commencing', 965), ('better', 966), ('end', 967), ('childbirth', 968), ('tise', 969), ('rising', 970), ('homogeneous', 971), ('begin', 972), ('finally', 973), ('rays', 974), ('al', 975), ('facilitates', 976), ('gall', 977), ('bladder', 978), ('ments', 979), ('mas', 980), ('saged', 981), ('eliminatory', 982), ('torn', 983), ('young', 984), ('renders', 985), ('twists', 986), ('meru', 987), ('wakrasana', 988), ('nourishes', 989), ('theseasanas', 990), ('controlled', 991), ('approach', 992), ('asanasare', 993), ('security', 994), ('uncontrollable', 995), ('regularly', 996), ('prasar', 997), ('spread', 998), ('interlock', 999), ('forehead', 1000), ('gomukhasana', 1001), ('ache', 1002), ('speaking', 1003), ('muscle', 1004), ('bends', 1005), ('extroversion', 1006), ('backwards', 1007), ('lead', 1008), ('rigidity', 1009), ('personality', 1010), ('difficulty', 1011), ('human', 1012), ('ward', 1013), ('constant', 1014), ('uncon', 1015), ('maintaining', 1016), ('vertebra', 1017), ('tendons', 1018), ('greater', 1019), ('stronger', 1020), ('gradually', 1021), ('obtained', 1022), ('lymph', 1023), ('venous', 1024), ('patients', 1025), ('different', 1026), ('accumulate', 1027), ('heaviness', 1028), ('concerned', 1029), ('acidity', 1030), ('expert', 1031), ('sirshapada', 1032), ('bhumi', 1033), ('sparshasana', 1034), ('lie', 1035), ('supported', 1036), ('myopia', 1037), ('acid', 1038), ('having', 1039), ('defects', 1040), ('hyperacidity', 1041), ('pregnantwomen', 1042), ('proper', 1043), ('gait', 1044), ('graceful', 1045), ('middle', 1046), ('thumb', 1047), ('acts', 1048), ('diverting', 1049), ('hridaya', 1050), ('safely', 1051), ('emotion', 1052), ('pent', 1053), ('conflict', 1054), ('endings', 1055), ('passing', 1056), ('totally', 1057), ('located', 1058), ('regulate', 1059), ('decreased', 1060), ('thing', 1061), ('waking', 1062), ('eliminate', 1063), ('works', 1064), ('soothes', 1065), ('aiding', 1066), ('eliminating', 1067), ('bronchial', 1068), ('cleansing', 1069), ('sensory', 1070), ('energizes', 1071), ('sensation', 1072), ('aim', 1073), ('usually', 1074), ('frustration', 1075), ('toes', 1076), ('certain', 1077), ('hormones', 1078), ('sensations', 1079), ('calm', 1080), ('consti', 1081), ('pation', 1082), ('degenerative', 1083), ('ageing', 1084), ('diaphragmatic', 1085), ('purification', 1086), ('lot', 1087), ('hot', 1088), ('summers', 1089), ('symptoms', 1090), ('infection', 1091), ('resume', 1092), ('counterpose', 1093), ('ida', 1094), ('wrist', 1095), ('cause', 1096), ('block', 1097), ('discomfort', 1098), ('requires', 1099), ('essential', 1100), ('alert', 1101), ('boosting', 1102), ('mayurasana', 1103), ('mild', 1104), ('parasympathetic', 1105), ('oo', 1106), ('padma', 1107), ('padottanasana', 1108), ('outstretched', 1109), ('baddha', 1110), ('padmottanasana', 1111), ('torso', 1112), ('merudandasana', 1113), ('niralamba', 1114), ('grasp', 1115), ('illnesses', 1116), ('attain', 1117), ('ment', 1118), ('rich', 1119), ('accustoms', 1120), ('influx', 1121), ('crown', 1122), ('supporting', 1123), ('exchange', 1124), ('capillaries', 1125), ('cold', 1126), ('excessively', 1127), ('degree', 1128), ('disturbed', 1129), ('create', 1130), ('focusing', 1131), ('natal', 1132), ('produced', 1133), ('impeded', 1134), ('autonomic', 1135), ('anahata', 1136), ('massage', 1137), ('like', 1138), ('directs', 1139), ('sahasrara', 1140), ('action', 1141), ('tation', 1142), ('self', 1143), ('circulated', 1144), ('encouraging', 1145), ('bearing', 1146), ('height', 1147), ('enabling', 1148), ('grow', 1149), ('swadhisthana', 1150), ('bowels', 1151), ('tightens', 1152), ('spontaneously', 1153), ('tuber', 1154), ('culosis', 1155), ('relieved', 1156), ('attempting', 1157), ('equanimity', 1158), ('variations', 1159), ('throm', 1160), ('bosis', 1161), ('provides', 1162), ('thoughtlessness', 1163), ('shashank', 1164), ('tightness', 1165), ('sheetali', 1166), ('teeth', 1167), ('presses', 1168), ('bone', 1169), ('locks', 1170), ('introverted', 1171), ('width', 1172), ('achieve', 1173), ('imbalance', 1174), ('rectify', 1175), ('amounts', 1176), ('catarrh', 1177), ('conjunctivitis', 1178), ('finger', 1179), ('index', 1180), ('runs', 1181), ('septum', 1182), ('results', 1183), ('laghoo', 1184), ('method', 1185), ('swastikasana', 1186), ('distribution', 1187), ('loosened', 1188), ('tadasana', 1189), ('rectus', 1190), ('abdomini', 1191), ('kati', 1192), ('expand', 1193), ('require', 1194), ('pile', 1195), ('aligned', 1196), ('observed', 1197), ('willpower', 1198), ('defective', 1199), ('prevents', 1200), ('eyeball', 1201), ('rotational', 1202), ('detachment', 1203), ('combine', 1204), ('eka', 1205), ('sirasana', 1206), ('food', 1207), ('vomit', 1208), ('trying', 1209), ('designed', 1210), ('equal', 1211), ('marjari', 1212), ('birth', 1213), ('sensitivity', 1214), ('minor', 1215), ('pronounced', 1216), ('efficient', 1217), ('smoother', 1218), ('turbulent', 1219), ('emphysema', 1220), ('heartbeat', 1221), ('pulse', 1222), ('drops', 1223), ('built', 1224), ('characterizes', 1225), ('progression', 1226), ('ratios', 1227), ('widely', 1228), ('texts', 1229), ('forces', 1230), ('nourished', 1231), ('nearer', 1232), ('engaged', 1233), ('idaand', 1234), ('biological', 1235), ('drives', 1236), ('tem', 1237), ('perature', 1238), ('excitation', 1239), ('flowof', 1240), ('tranquillizer', 1241), ('satisfaction', 1242), ('begins', 1243), ('ofintroversion', 1244), ('fora', 1245), ('depressed', 1246), ('withdrawn', 1247), ('involving', 1248), ('counts', 1249), ('emphy', 1250), ('sema', 1251), ('mucous', 1252), ('stipation', 1253), ('winter', 1254), ('climates', 1255), ('stooping', 1256), ('figure', 1257), ('markedly', 1258), ('dullness', 1259), ('diarrhoea', 1260), ('uses', 1261), ('exercised', 1262), ('significant', 1263), ('responsible', 1264), ('alternate', 1265), ('tensing', 1266), ('smoothes', 1267), ('bad', 1268), ('writer', 1269), ('shoul', 1270), ('der', 1271), ('ananda', 1272), ('madirasana', 1273), ('classical', 1274), ('limbers', 1275), ('skeletal', 1276), ('diagonal', 1277), ('loos', 1278), ('ening', 1279), ('titali', 1280), ('evening', 1281), ('ushtrasana', 1282), ('vents', 1283), ('escape', 1284), ('flicts', 1285), ('unwanted', 1286), ('conserves', 1287), ('enhancing', 1288), ('mighty', 1289), ('conducts', 1290), ('sahaj', 1291), ('meaning', 1292), ('moves', 1293), ('arousing', 1294), ('itnt', 1295), ('atom', 1296), ('beat', 1297), ('bvsreraryaery', 1298), ('araasfaratteitaart', 1299), ('antar', 1300), ('tised', 1301), ('urethritis', 1302), ('irritation', 1303), ('celibacy', 1304), ('astavakrasana', 1305), ('preceptor', 1306), ('janaka', 1307), ('mithila', 1308), ('mother', 1309), ('kagola', 1310), ('mistakes', 1311), ('reciting', 1312), ('vedas', 1313), ('hearing', 1314), ('unborn', 1315), ('laughed', 1316), ('enraged', 1317), ('cursed', 1318), ('son', 1319), ('crooked', 1320), ('came', 1321), ('twisted', 1322), ('places', 1323), ('named', 1324), ('growth', 1325), ('poorly', 1326), ('chests', 1327), ('hydro', 1328), ('cele', 1329), ('synchronized', 1330), ('breaths', 1331), ('receives', 1332), ('predominantly', 1333), ('definite', 1334), ('absolutely', 1335), ('ture', 1336), ('scriptures', 1337), ('quietly', 1338), ('waiting', 1339), ('happen', 1340), ('burns', 1341), ('reputed', 1342), ('burn', 1343), ('karma', 1344), ('noted', 1345), ('concen', 1346), ('tration', 1347), ('lessness', 1348), ('creasing', 1349), ('inward', 1350), ('vibration', 1351), ('humming', 1352), ('deepens', 1353), ('chandra', 1354), ('hyper', 1355), ('thyroidism', 1356), ('bhujangini', 1357), ('retaining', 1358), ('float', 1359), ('length', 1360), ('ashwini', 1361), ('consequently', 1362), ('cycle', 1363), ('postnata', 1364), ('theliver', 1365), ('massag', 1366), ('gastrointestinal', 1367), ('hunching', 1368), ('comparatively', 1369), ('rotated', 1370), ('outwardsas', 1371), ('outer', 1372), ('weapon', 1373), ('indra', 1374), ('devas', 1375), ('gods', 1376), ('highly', 1377), ('cultures', 1378), ('genito', 1379), ('sublimation', 1380), ('ofsexualenergy', 1381), ('reasonably', 1382), ('bal', 1383), ('refers', 1384), ('enlightened', 1385), ('sages', 1386), ('vedic', 1387), ('age', 1388), ('symbol', 1389), ('izes', 1390), ('ancient', 1391), ('worshipped', 1392), ('basis', 1393), ('represented', 1394), ('carries', 1395), ('traditional', 1396), ('original', 1397), ('versatility', 1398), ('methods', 1399), ('vigorous', 1400), ('mantra', 1401), ('direct', 1402), ('underactive', 1403), ('rhythmic', 1404), ('sequence', 1405), ('reflects', 1406), ('rhythms', 1407), ('universe', 1408), ('zodiac', 1409), ('phases', 1410), ('year', 1411), ('biorhythms', 1412), ('transforming', 1413), ('fuller', 1414), ('seven', 1415), ('arecombined', 1416), ('independently', 1417), ('sections', 1418), ('continued', 1419), ('ifa', 1420), ('rashes', 1421), ('occur', 1422), ('eliminated', 1423), ('semi', 1424), ('cau', 1425), ('overstimulate', 1426), ('vessel', 1427), ('hemia', 1428), ('pert', 1429), ('managed', 1430), ('onset', 1431), ('adverse', 1432), ('beginning', 1433), ('twelfth', 1434), ('week', 1435), ('commenced', 1436), ('approximately', 1437), ('days', 1438), ('uterine', 1439), ('transition', 1440), ('childhood', 1441), ('adolescence', 1442), ('synchronizing', 1443), ('breathes', 1444), ('deeply', 1445), ('rhythmically', 1446), ('sible', 1447), ('oxygenated', 1448), ('sunrise', 1449), ('peaceful', 1450), ('sunset', 1451), ('provided', 1452), ('hanging', 1453), ('loosely', 1454), ('unit', 1455), ('minimize', 1456), ('swaying', 1457), ('equally', 1458), ('downwards', 1459), ('surging', 1460), ('earth', 1461), ('flooding', 1462), ('systematically', 1463), ('intensify', 1464), ('eyebrow', 1465), ('visualize', 1466), ('brilliant', 1467), ('red', 1468), ('infusing', 1469), ('hiatus', 1470), ('abdomin', 1471), ('break', 1472), ('fats', 1473), ('exercising', 1474), ('ail', 1475), ('utthanasana', 1476), ('powerfully', 1477), ('perin', 1478), ('eum', 1479), ('preservation', 1480), ('thoroughly', 1481), ('coordina', 1482), ('adrenals', 1483), ('include', 1484), ('preferably', 1485), ('imposed', 1486), ('direction', 1487), ('careful', 1488), ('indica', 1489), ('enhance', 1490), ('navel', 1491), ('small', 1492), ('rejuvenates', 1493), ('tissues', 1494), ('channels', 1495), ('supplying', 1496), ('untwisting', 1497), ('represents', 1498), ('prob', 1499), ('lems', 1500), ('encounter', 1501), ('insight', 1502), ('inspire', 1503), ('systematic', 1504), ('untying', 1505), ('tangled', 1506), ('peoplewill', 1507), ('excited', 1508), ('tonesthe', 1509), ('garudasana', 1510), ('speeds', 1511), ('wide', 1512), ('straining', 1513), ('completes', 1514), ('providing', 1515), ('essentially', 1516), ('distributed', 1517), ('rheumatism', 1518), ('passive', 1519), ('focused', 1520), ('confines', 1521), ('counteracting', 1522), ('sedentary', 1523), ('lifestyles', 1524), ('little', 1525), ('exer', 1526), ('cise', 1527), ('city', 1528), ('living', 1529), ('counteracted', 1530), ('bowing', 1531), ('humility', 1532), ('inability', 1533), ('indi', 1534), ('cate', 1535), ('proud', 1536), ('stubborn', 1537), ('beings', 1538), ('live', 1539), ('attack', 1540), ('sciously', 1541), ('freeze', 1542), ('primary', 1543), ('nourishing', 1544), ('impact', 1545), ('book', 1546), ('taken', 1547), ('present', 1548), ('rigid', 1549), ('build', 1550), ('ones', 1551), ('maintained', 1552), ('kind', 1553), ('ting', 1554), ('fingertips', 1555), ('supports', 1556), ('lift', 1557), ('tilt', 1558), ('calf', 1559), ('returning', 1560), ('bedridden', 1561), ('extremely', 1562), ('beecome', 1563), ('connecting', 1564), ('desk', 1565), ('lack', 1566), ('reproduc', 1567), ('eliminates', 1568), ('treme', 1569), ('sought', 1570), ('grivasana', 1571), ('touching', 1572), ('press', 1573), ('tense', 1574), ('kept', 1575), ('try', 1576), ('torelease', 1577), ('let', 1578), ('thisasana', 1579), ('musclesstrong', 1580), ('achieving', 1581), ('productive', 1582), ('suprarenal', 1583), ('production', 1584), ('insulin', 1585), ('lumbo', 1586), ('hamsasana', 1587), ('shaping', 1588), ('girls', 1589), ('diverts', 1590), ('ring', 1591), ('relate', 1592), ('closes', 1593), ('energizer', 1594), ('situations', 1595), ('unburden', 1596), ('crisis', 1597), ('pollution', 1598), ('passages', 1599), ('obstruction', 1600), ('manage', 1601), ('tract', 1602), ('youthful', 1603), ('appear', 1604), ('drowsiness', 1605), ('smell', 1606), ('overall', 1607), ('corresponding', 1608), ('bodyand', 1609), ('importantly', 1610), ('consistently', 1611), ('diffi', 1612), ('culty', 1613), ('structural', 1614), ('blockage', 1615), ('prone', 1616), ('blocked', 1617), ('exerts', 1618), ('subtler', 1619), ('decrease', 1620), ('heavier', 1621), ('initiated', 1622), ('exerting', 1623), ('prevented', 1624), ('pointedness', 1625), ('stimulus', 1626), ('spon', 1627), ('dylosis', 1628), ('lock', 1629), ('strains', 1630), ('taught', 1631), ('dizziness', 1632), ('arises', 1633), ('bears', 1634), ('vulnerable', 1635), ('sprains', 1636), ('quadriceps', 1637), ('rejuvenate', 1638), ('identical', 1639), ('distinct', 1640), ('moming', 1641), ('distance', 1642), ('determines', 1643), ('placement', 1644), ('rises', 1645), ('cardiac', 1646), ('ther', 1647), ('efore', 1648), ('suppleness', 1649), ('es', 1650), ('pecially', 1651), ('kaki', 1652), ('act', 1653), ('pursing', 1654), ('lips', 1655), ('indrawn', 1656), ('membranes', 1657), ('glau', 1658), ('coma', 1659), ('miscarry', 1660), ('kandhar', 1661), ('tractions', 1662), ('sleepiness', 1663), ('visions', 1664), ('moorchha', 1665), ('draws', 1666), ('inwards', 1667), ('cuts', 1668), ('distractions', 1669), ('inhibits', 1670), ('identification', 1671), ('neuroses', 1672), ('atherosclerosis', 1673), ('basilar', 1674), ('discontinue', 1675), ('soon', 1676), ('fainting', 1677), ('felt', 1678), ('swooning', 1679), ('unconsciousness', 1680), ('girdle', 1681), ('special', 1682), ('inaccessible', 1683), ('fo', 1684), ('lighten', 1685), ('mood', 1686), ('cavity', 1687), ('secretion', 1688), ('saliva', 1689), ('stillness', 1690), ('preserves', 1691), ('ultimately', 1692), ('potential', 1693), ('tongue', 1694), ('common', 1695), ('temporarily', 1696), ('preclude', 1697), ('koormasana', 1698), ('composure', 1699), ('surrender', 1700), ('passion', 1701), ('subside', 1702), ('refreshed', 1703), ('sufficiently', 1704), ('stimulation', 1705), ('enhanced', 1706), ('pineal', 1707), ('checked', 1708), ('cell', 1709), ('rejuvenated', 1710), ('merger', 1711), ('culmination', 1712), ('pranayamas', 1713), ('harnessing', 1714), ('follows', 1715), ('supercharge', 1716), ('linking', 1717), ('charged', 1718), ('opera', 1719), ('impurity', 1720), ('indicated', 1721), ('eruptions', 1722), ('introverting', 1723), ('faculties', 1724), ('resides', 1725), ('types', 1726), ('exag', 1727), ('gerated', 1728), ('fluctuations', 1729), ('writing', 1730), ('typing', 1731), ('recom', 1732), ('mended', 1733), ('matsya', 1734), ('kridasana', 1735), ('circumstances', 1736), ('sleeping', 1737), ('nidra', 1738), ('pillow', 1739), ('comfort', 1740), ('purpose', 1741), ('satisfy', 1742), ('furthermore', 1743), ('loses', 1744), ('needs', 1745), ('conscious', 1746), ('satisfies', 1747), ('requirements', 1748), ('drift', 1749), ('awake', 1750), ('going', 1751), ('successful', 1752), ('swami', 1753), ('sivananda', 1754), ('rishikesh', 1755), ('drink', 1756), ('glasses', 1757), ('inflamed', 1758), ('recirculates', 1759), ('thymus', 1760), ('greatly', 1761), ('youthfulness', 1762), ('elimination', 1763), ('removal', 1764), ('particular', 1765), ('burnt', 1766), ('ifthereis', 1767), ('sign', 1768), ('rendering', 1769), ('redistributes', 1770), ('waistline', 1771), ('peoplewith', 1772), ('stiffbacks', 1773), ('paschimottan', 1774), ('fold', 1775), ('forearms', 1776), ('clasped', 1777), ('interlocked', 1778), ('unsupported', 1779), ('lifting', 1780), ('pulling', 1781), ('draw', 1782), ('bestows', 1783), ('psychosomatic', 1784), ('sublimate', 1785), ('enhancement', 1786), ('marital', 1787), ('relations', 1788), ('precipitate', 1789), ('hyperactivity', 1790), ('exceptionally', 1791), ('bhadrasana', 1792), ('gentile', 1793), ('gracious', 1794), ('moolabandhasana', 1795), ('pressing', 1796), ('parathyroid', 1797), ('regeneration', 1798), ('induced', 1799), ('gravitational', 1800), ('haemorrhoids', 1801), ('draining', 1802), ('tonsils', 1803), ('thrombo', 1804), ('sis', 1805), ('adapt', 1806), ('lesser', 1807), ('introspection', 1808), ('nosetip', 1809), ('centrates', 1810), ('powers', 1811), ('natavarasana', 1812), ('latory', 1813), ('deeper', 1814), ('restores', 1815), ('freshness', 1816), ('childbearing', 1817), ('second', 1818), ('breaking', 1819), ('retoning', 1820), ('flaccid', 1821), ('started', 1822), ('fitness', 1823), ('prevail', 1824), ('therapist', 1825), ('consulted', 1826), ('assimilation', 1827), ('absorption', 1828), ('excretion', 1829), ('store', 1830), ('house', 1831), ('cleaned', 1832), ('stool', 1833), ('basti', 1834), ('cleans', 1835), ('vyutkrama', 1836), ('sheetkrama', 1837), ('facial', 1838), ('intensified', 1839), ('gallstones', 1840), ('frequent', 1841), ('benefiting', 1842), ('obesity', 1843), ('armpits', 1844), ('facilitate', 1845), ('respectively', 1846), ('inverting', 1847), ('ninety', 1848), ('angle', 1849), ('vayu', 1850), ('treatment', 1851), ('additional', 1852), ('completely', 1853), ('holds', 1854), ('pillar', 1855), ('firm', 1856), ('foundation', 1857), ('steadied', 1858), ('steadi', 1859), ('ness', 1860), ('step', 1861), ('real', 1862), ('heightening', 1863), ('applies', 1864), ('redirected', 1865), ('perineal', 1866), ('accumulation', 1867), ('fatand', 1868), ('sagging', 1869), ('resembles', 1870), ('beam', 1871), ('bar', 1872), ('parigha', 1873), ('shut', 1874), ('gate', 1875), ('orien', 1876), ('shifts', 1877), ('similarly', 1878), ('change', 1879), ('throwing', 1880), ('new', 1881), ('refreshing', 1882), ('reduce', 1883), ('workloads', 1884), ('nour', 1885), ('ishing', 1886), ('neurones', 1887), ('flushing', 1888), ('drained', 1889), ('puri', 1890), ('fied', 1891), ('cells', 1892), ('organism', 1893), ('riched', 1894), ('operate', 1895), ('tuning', 1896), ('ways', 1897), ('maximizing', 1898), ('postureswhere', 1899), ('pashinee', 1900), ('drawal', 1901), ('keeps', 1902), ('sym', 1903), ('pathetic', 1904), ('yogi', 1905), ('matsyendranath', 1906), ('founded', 1907), ('vidya', 1908), ('poorna', 1909), ('sti', 1910), ('mulates', 1911), ('fit', 1912), ('hyperthyriodism', 1913), ('prepare', 1914), ('mastery', 1915), ('walking', 1916), ('infirm', 1917), ('dormant', 1918), ('distributes', 1919), ('instils', 1920), ('adopting', 1921), ('offering', 1922), ('receiving', 1923), ('cosmic', 1924), ('source', 1925), ('shanti', 1926), ('beneficially', 1927), ('firms', 1928), ('breast', 1929), ('insides', 1930), ('poor', 1931), ('equilibrium', 1932), ('interaction', 1933), ('dorsal', 1934), ('ventral', 1935), ('sarpasana', 1936), ('achilles', 1937), ('creased', 1938), ('ittonesthe', 1939), ('heartand', 1940), ('deal', 1941), ('operation', 1942), ('withdrawal', 1943), ('come', 1944), ('mainly', 1945), ('flexing', 1946), ('tightening', 1947), ('stregthens', 1948), ('intest', 1949), ('inal', 1950), ('separates', 1951), ('connections', 1952), ('emanating', 1953), ('squeezed', 1954), ('rise', 1955), ('italso', 1956), ('overweight', 1957), ('stopped', 1958), ('painful', 1959), ('physiological', 1960), ('ideally', 1961), ('practi', 1962), ('tioner', 1963), ('feels', 1964), ('iscompletely', 1965), ('developing', 1966), ('sensitive', 1967), ('missing', 1968), ('dentures', 1969), ('applied', 1970), ('pubic', 1971), ('trigger', 1972), ('redirect', 1973), ('impulses', 1974), ('establishing', 1975), ('necessary', 1976), ('noticeable', 1977), ('tingling', 1978), ('reduction', 1979), ('rebalancing', 1980), ('stutter', 1981), ('beautiful', 1982), ('clasp', 1983), ('calves', 1984), ('rests', 1985), ('considered', 1986), ('greatest', 1987), ('hay', 1988), ('menopausal', 1989), ('disorder', 1990), ('alleviated', 1991), ('reversed', 1992), ('regions', 1993), ('tissue', 1994), ('regen', 1995), ('eration', 1996), ('larger', 1997), ('headache', 1998), ('migraine', 1999), ('haemorrhage', 2000), ('driving', 2001), ('office', 2002), ('frozen', 2003), ('sukhasana', 2004), ('easiest', 2005), ('ill', 2006), ('supta', 2007), ('impotence', 2008), ('sterility', 2009), ('alleviat', 2010), ('realigns', 2011), ('influenced', 2012), ('expanded', 2013), ('filling', 2014), ('medit', 2015), ('ation', 2016), ('counteracts', 2017), ('vata', 2018), ('kapha', 2019), ('phlegm', 2020), ('humours', 2021), ('dynamism', 2022), ('dull', 2023), ('lethargic', 2024), ('communicate', 2025), ('perceptive', 2026), ('mudraare', 2027), ('impor', 2028), ('tant', 2029), ('neural', 2030), ('constantly', 2031), ('emit', 2032), ('touches', 2033), ('dissipate', 2034), ('environment', 2035), ('travel', 2036), ('handsare', 2037), ('sensitized', 2038), ('creating', 2039), ('maintains', 2040), ('gupta', 2041), ('hidden', 2042), ('sensitizing', 2043), ('receptivity', 2044), ('absent', 2045), ('hyperthyroid', 2046), ('deviated', 2047), ('flowing', 2048), ('freely', 2049), ('deformed', 2050), ('fleshy', 2051), ('outgrowths', 2052), ('friction', 2053), ('obstructions', 2054), ('disappear', 2055), ('recharges', 2056), ('restored', 2057), ('manifold', 2058), ('intended', 2059), ('bowel', 2060), ('version', 2061), ('flush', 2062), ('intake', 2063), ('polyps', 2064), ('malformations', 2065), ('turbinates', 2066), ('ayurvedic', 2067), ('shankha', 2068), ('prakshalana', 2069), ('taking', 2070), ('medication', 2071), ('aching', 2072), ('tadagi', 2073), ('stored', 2074), ('dia', 2075), ('phragm', 2076), ('plexuses', 2077), ('extending', 2078), ('strenuouusand', 2079), ('kat', 2080), ('rotating', 2081), ('wrap', 2082), ('look', 2083), ('imagine', 2084), ('turns', 2085), ('accentuate', 2086), ('firmly', 2087), ('rotation', 2088), ('smoothly', 2089), ('jerking', 2090), ('correcting', 2091), ('ens', 2092), ('extroverting', 2093), ('inhalation', 2094), ('embracing', 2095), ('fore', 2096), ('controlling', 2097), ('decompressed', 2098), ('repercussions', 2099), ('stacked', 2100), ('extend', 2101), ('covering', 2102), ('despite', 2103), ('depends', 2104), ('supportive', 2105), ('unconsciously', 2106), ('hang', 2107), ('ups', 2108), ('reflected', 2109), ('tonic', 2110), ('hard', 2111), ('lax', 2112), ('zones', 2113), ('consistency', 2114), ('research', 2115), ('shown', 2116), ('origin', 2117), ('stack', 2118), ('disaligned', 2119), ('manifest', 2120), ('ofa', 2121), ('regime', 2122), ('muscu', 2123), ('lar', 2124), ('synchronization', 2125), ('uniformly', 2126), ('contracted', 2127), ('sluggish', 2128), ('continu', 2129), ('ous', 2130), ('circulate', 2131), ('purify', 2132), ('enrich', 2133), ('negative', 2134), ('gans', 2135), ('lordosis', 2136), ('saral', 2137), ('shalabasana', 2138), ('gener', 2139), ('ally', 2140), ('kandharasana', 2141), ('bright', 2142), ('centration', 2143), ('epileptics', 2144), ('candle', 2145), ('flame', 2146), ('page', 2147), ('delicate', 2148), ('mem', 2149), ('branes', 2150), ('damaged', 2151), ('palming', 2152), ('aqueous', 2153), ('humour', 2154), ('liquid', 2155), ('cornea', 2156), ('correction', 2157), ('vision', 2158), ('eyesight', 2159), ('blink', 2160), ('irregularly', 2161), ('unnaturally', 2162), ('blinking', 2163), ('reflex', 2164), ('reading', 2165), ('corrects', 2166), ('squint', 2167), ('medial', 2168), ('coordinated', 2169), ('acti', 2170), ('vities', 2171), ('bst', 2172), ('accommodating', 2173), ('range', 2174), ('trachoma', 2175), ('vein', 2176), ('iritis', 2177), ('keratitis', 2178), ('consulting', 2179), ('specialist', 2180), ('kunjal', 2181), ('altogether', 2182), ('lasts', 2183), ('lifestyle', 2184), ('vegetarian', 2185), ('diet', 2186), ('benefit', 2187), ('panacea', 2188), ('glandsare', 2189), ('suction', 2190), ('uniting', 2191), ('classified', 2192), ('tranquillizing', 2193), ('heating', 2194), ('profoundly', 2195), ('nature', 2196), ('agitation', 2197), ('literally', 2198), ('translated', 2199), ('implies', 2200), ('attachment', 2201), ('objects', 2202), ('dispelled', 2203), ('hindrance', 2204), ('conflicting', 2205), ('analysis', 2206), ('avastha', 2207), ('drooping', 2208), ('risk', 2209), ('initial', 2210), ('alveoli', 2211), ('alters', 2212), ('im', 2213), ('pulses', 2214), ('preventative', 2215), ('measure', 2216), ('genitals', 2217), ('fibres', 2218), ('feed', 2219), ('dilated', 2220), ('testicles', 2221), ('men', 2222), ('suchas', 2223), ('best', 2224), ('abdomi', 2225), ('nal', 2226), ('contractions', 2227), ('walls', 2228), ('emotions', 2229), ('blocks', 2230), ('heartcaused', 2231), ('pressures', 2232), ('burdening', 2233), ('rotten', 2234), ('eaten', 2235), ('modern', 2236), ('remedy', 2237), ('tablets', 2238), ('natural', 2239), ('harmful', 2240), ('diabetics', 2241), ('intermediate', 2242), ('overstraining', 2243), ('unusual', 2244), ('habituated', 2245), ('coaxing', 2246), ('quick', 2247), ('alternated', 2248), ('therapeutic', 2249), ('affect', 2250), ('dimensions', 2251), ('harmonized', 2252), ('transformations', 2253), ('character', 2254), ('tubes', 2255), ('vastra', 2256), ('dhauti', 2257), ('reflexes', 2258), ('wilfully', 2259), ('urge', 2260), ('gains', 2261), ('gastritis', 2262), ('weakened', 2263), ('ability', 2264), ('retain', 2265), ('seminal', 2266), ('stale', 2267), ('stimu', 2268), ('lates', 2269), ('namaskarasana', 2270), ('arterio', 2271), ('sclerosis', 2272), ('scious', 2273), ('realms', 2274), ('quickly', 2275), ('precise', 2276), ('think', 2277), ('veerasana', 2278), ('thinker', 2279), ('philosopher', 2280), ('stabilizing', 2281), ('bsvo', 2282), ('cat', 2283), ('beneath', 2284), ('line', 2285), ('perpendicular', 2286), ('inhale', 2287), ('depressing', 2288), ('concave', 2289), ('maximum', 2290), ('exhale', 2291), ('accentuating', 2292), ('arch', 2293), ('cramps', 2294), ('leucorrhea', 2295), ('forceful', 2296), ('vipareeta', 2297), ('karani', 2298), ('downward', 2299), ('outward', 2300), ('expanding', 2301), ('vishwamitra', 2302), ('originally', 2303), ('kshatriya', 2304), ('member', 2305), ('warrior', 2306), ('class', 2307), ('kanyakubja', 2308), ('devoted', 2309), ('rigorous', 2310), ('austerities', 2311), ('successfully', 2312), ('achieved', 2313), ('titles', 2314), ('rajarishi', 2315), ('royal', 2316), ('rishi', 2317), ('seer', 2318), ('maharishi', 2319), ('patriarch', 2320), ('mankind', 2321), ('brahmarishi', 2322), ('brahmanical', 2323), ('star', 2324), ('fs', 2325), ('brit', 2326), ('agit', 2327), ('vrischikasana', 2328), ('reorganizes', 2329), ('arrest', 2330), ('arched', 2331), ('slightest', 2332), ('directions', 2333), ('child', 2334), ('medi', 2335), ('engendering', 2336), ('spaces', 2337), ('yogamudrasana', 2338), ('interlocking', 2339), ('connection', 2340), ('vice', 2341), ('versa', 2342), ('tips', 2343), ('thumbs', 2344), ('stable', 2345), ('dispersed', 2346), ('naturally', 2347), ('tend', 2348), ('performing', 2349)]\n"
          ],
          "name": "stdout"
        }
      ]
    },
    {
      "cell_type": "code",
      "metadata": {
        "colab": {
          "base_uri": "https://localhost:8080/"
        },
        "id": "Q6wRSPttCGKD",
        "outputId": "f8403741-21fc-4d55-c2aa-d1c1ec25b559"
      },
      "source": [
        "print(index_to_word_map[2349])"
      ],
      "execution_count": null,
      "outputs": [
        {
          "output_type": "stream",
          "text": [
            "performing\n"
          ],
          "name": "stdout"
        }
      ]
    },
    {
      "cell_type": "code",
      "metadata": {
        "colab": {
          "base_uri": "https://localhost:8080/"
        },
        "id": "e0U1mqwNCKk5",
        "outputId": "186be0a0-f54d-476c-f268-5676e66d84d8"
      },
      "source": [
        "len(sequence)"
      ],
      "execution_count": null,
      "outputs": [
        {
          "output_type": "execute_result",
          "data": {
            "text/plain": [
              "476"
            ]
          },
          "metadata": {
            "tags": []
          },
          "execution_count": 42
        }
      ]
    },
    {
      "cell_type": "code",
      "metadata": {
        "colab": {
          "base_uri": "https://localhost:8080/"
        },
        "id": "kMP2S4dwCyz3",
        "outputId": "eeabc155-a73c-4ead-cc81-cfbe65f80c08"
      },
      "source": [
        "tokenizer2 = Tokenizer(oov_token=oov_token)\n",
        "tokenizer2.fit_on_texts(output)\n",
        "word_index2 = tokenizer2.word_index\n",
        "sequence2 = tokenizer2.texts_to_sequences(output)\n",
        "\n",
        "print(len(word_index2)) "
      ],
      "execution_count": null,
      "outputs": [
        {
          "output_type": "stream",
          "text": [
            "239\n"
          ],
          "name": "stdout"
        }
      ]
    },
    {
      "cell_type": "code",
      "metadata": {
        "colab": {
          "base_uri": "https://localhost:8080/"
        },
        "id": "ziLTAQHhGpgf",
        "outputId": "8cfc9057-57b8-4ad2-aeda-0c14650b30cf"
      },
      "source": [
        "print('Vocabulary Sample:', list(word_index2.items()))"
      ],
      "execution_count": null,
      "outputs": [
        {
          "output_type": "stream",
          "text": [
            "Vocabulary Sample: [('<OOV>', 1), ('aname', 2), ('abdominalbreathing', 3), ('advasana', 4), ('agnisarakriya', 5), ('akarnadhanurasana', 6), ('akashimudra', 7), ('anandamadirasana', 8), ('ardhachandrasana', 9), ('ardhamatsyendrasana', 10), ('ardhapadmahalasana', 11), ('ardhapadmasana', 12), ('ardhashalabhasana', 13), ('ardhatitaliasana', 14), ('ardhaushtrasanaenero', 15), ('ashwasanchalanasana', 16), ('ashwinimudra', 17), ('astavakrasana', 18), ('baddhapadmasana', 19), ('bakadhyanasana', 20), ('bakasana', 21), ('bandhahastautthanasana', 22), ('bhadrasana', 23), ('bhairavamudra', 24), ('bhastrikapranayama', 25), ('bhoocharimudra', 26), ('bhramaripranayama', 27), ('bhunamanasana', 28), ('bhujangasana', 29), ('bhujanginimudra', 30), ('bhumipadamastakasana', 31), ('brahmacharyasana', 32), ('chakkichalanasana', 33), ('chakrasana', 34), ('chandranamaskara', 35), ('chinmudra', 36), ('dakshinanauli', 37), ('dhanurakarshanasana', 38), ('dhanurasana', 39), ('dhyanaveerasana', 40), ('dolasana', 41), ('drutahalasana', 42), ('drutautkatasana', 43), ('dwihastabhujasana', 44), ('dwipadakandharasana', 45), ('dwipadasirasana', 46), ('dwikonasana', 47), ('ekahastabhujasana', 48), ('ekapadabakadhyanasana', 49), ('ekapadapranamasana', 50), ('ekapadasirasana', 51), ('ekapadasana', 52), ('ekapadottanasana', 53), ('gajakarmakriya', 54), ('garbhasana', 55), ('garudasana', 56), ('gatyatmakmeruvakrasana', 57), ('gatyatmakpaschimottanasana', 58), ('gomukhasana', 59), ('goolfchakra', 60), ('goolfghoornan', 61), ('goolfnaman', 62), ('gorakshasana', 63), ('greevasanchalana', 64), ('grivasana', 65), ('guptapadmasana', 66), ('halasana', 67), ('hamsasana', 68), ('hanumanasana', 69), ('hastapadaangushthasana', 70), ('hastautthanasana', 71), ('hridayamudra', 72), ('jalabasti', 73), ('jalaneti', 74), ('jalandharabandha', 75), ('januchakra', 76), ('janunaman', 77), ('janusirshasana', 78), ('janufalakakarshan', 79), ('jhulanalurhakanasana', 80), ('jnanamudra', 81), ('jyestikasana', 82), ('kakimudra', 83), ('kandharasana', 84), ('kapalbhati', 85), ('kapalbhatipranayama', 86), ('kapaliasana', 87), ('kashthatakshanasana', 88), ('katichakrasana', 89), ('kauvachalasana', 90), ('kehunichakra', 91), ('kehuninaman', 92), ('khecharimudra', 93), ('koormasana', 94), ('kukkutasana', 95), ('kunjalkriya', 96), ('laghooshankhaprakshalana', 97), ('lolasana', 98), ('madhyamanauli', 99), ('mahabandha', 100), ('mahabhedamudra', 101), ('mahamudra', 102), ('mahavedhamudra', 103), ('makarasana', 104), ('mandukimudra', 105), ('manibandhachakra', 106), ('manibandhanaman', 107), ('marjariasana', 108), ('matsyakridasana', 109), ('matsyasana', 110), ('mayurasana', 111), ('meruakarshanasana', 112), ('meruprishthasana', 113), ('meruwakrasana', 114), ('merudandasana', 115), ('moolabandha', 116), ('moolashodhana', 117), ('moolabandhasana', 118), ('moordhasana', 119), ('muktahastamerudandasana', 120), ('mushtikabandhana', 121), ('nadanusandhanaasana', 122), ('namanpranamasana', 123), ('namaskarasana', 124), ('nasagramudra', 125), ('nasikagradrishti', 126), ('natarajasana', 127), ('natavarasana', 128), ('naukasanchalanasana', 129), ('naukasana', 130), ('nauli', 131), ('niralambasirshasana', 132), ('oordhwapadmasana', 133), ('padaangushthasana', 134), ('padasanchalanasana', 135), ('padachakrasana', 136), ('padadhirasana', 137), ('padahastasana', 138), ('padangulinaman', 139), ('padmamayurasana', 140), ('padmaparvatasana', 141), ('padmasarvangasana', 142), ('padmasana', 143), ('padotthanasana', 144), ('parighasana', 145), ('parivrittijanusirshasana', 146), ('parvatasana', 147), ('paschimottanasana', 148), ('pashineemudra', 149), ('poornabhujangasana', 150), ('poornadhanurasana', 151), ('poornamatsyendrasana', 152), ('poornashalabhasana', 153), ('poornatitaliasana', 154), ('poorwahalasana', 155), ('pranamudra', 156), ('pranamasana', 157), ('prarambhiksthiti', 158), ('prishthasana', 159), ('rajjukarshanasana', 160), ('sahajolimudra', 161), ('saithalyasana', 162), ('salambasirshasana', 163), ('samakonasana', 164), ('santolanasana', 165), ('saralbhujangasana', 166), ('saralnatarajasana', 167), ('sarpasana', 168), ('sarvangasana', 169), ('setuasana', 170), ('shalabhasana', 171), ('shambhavimudra', 172), ('shanmukhimudra', 173), ('shashankbhujangasana', 174), ('shashankasana', 175), ('shavaudarakarshanasana', 176), ('shavasana', 177), ('sheetalipranayama', 178), ('sheetkaripranayama', 179), ('sheetkramakapalbhati', 180), ('shronichakra', 181), ('yoniasana', 182), ('siddhasana', 183), ('simhagarjanasana', 184), ('simhasana', 185), ('sirshaangusthayogasana', 186), ('sirshasana', 187), ('skandhachakra', 188), ('stambhanasana', 189), ('sthalbasti', 190), ('sukhasana', 191), ('suptapawanmuktasana', 192), ('suptavajrasana', 193), ('suryabhedapranayama', 194), ('suryanamaskara', 195), ('sutraneti', 196), ('swanapranayama', 197), ('swastikasana', 198), ('tadagimudra', 199), ('tadasana', 200), ('tandavasana', 201), ('tiryakabhujangasana', 202), ('tiryakakatichakrasana', 203), ('tiryakatadasana', 204), ('tolangulasana', 205), ('trataka', 206), ('trikonasana', 207), ('udarakarshanasana', 208), ('uddiyanabandha', 209), ('ujjayipranayama', 210), ('unmanimudra', 211), ('ushtrasana', 212), ('utthanekapadasirasana', 213), ('utthanpristhasana', 214), ('utthanasana', 215), ('utthanpadasana', 216), ('utthitalolasana', 217), ('vajrasana', 218), ('vajrolimudra', 219), ('vahnisaradhauti', 220), ('vamanauli', 221), ('vamandhauti', 222), ('vashishthasana', 223), ('vastradhauti', 224), ('vatayanasana', 225), ('vatkramakapalbhati', 226), ('vatsaradhauti', 227), ('vayunishkasana', 228), ('veerasana', 229), ('vipareetakaraniasana', 230), ('vipareetakaranimudra', 231), ('vishwamitrasana', 232), ('vrischikasana', 233), ('vwyaghrakriya', 234), ('vyaghrasana', 235), ('vyutkramakapalbhati', 236), ('yogamudra', 237), ('yogamudrasana', 238), ('yonimudra', 239)]\n"
          ],
          "name": "stdout"
        }
      ]
    },
    {
      "cell_type": "code",
      "metadata": {
        "id": "oF3dhAplGvsm"
      },
      "source": [
        "vocab_size2 = len(word_index2)"
      ],
      "execution_count": null,
      "outputs": []
    },
    {
      "cell_type": "code",
      "metadata": {
        "id": "5BGkK3o2G3Y9"
      },
      "source": [
        "index_to_word_map2 = {}\n",
        "for word,index in word_index2.items():\n",
        "  index_to_word_map2[index] = word"
      ],
      "execution_count": null,
      "outputs": []
    },
    {
      "cell_type": "code",
      "metadata": {
        "colab": {
          "base_uri": "https://localhost:8080/",
          "height": 36
        },
        "id": "IJ_Ycu6aHwEn",
        "outputId": "e2331300-5ea0-44b7-9631-0cd9aae52d7f"
      },
      "source": [
        "index_to_word_map2[3]"
      ],
      "execution_count": null,
      "outputs": [
        {
          "output_type": "execute_result",
          "data": {
            "application/vnd.google.colaboratory.intrinsic+json": {
              "type": "string"
            },
            "text/plain": [
              "'abdominalbreathing'"
            ]
          },
          "metadata": {
            "tags": []
          },
          "execution_count": 47
        }
      ]
    },
    {
      "cell_type": "code",
      "metadata": {
        "id": "HiypTvIVHyAZ"
      },
      "source": [
        "benefits = []\n",
        "contra = []\n",
        "asan = []"
      ],
      "execution_count": null,
      "outputs": []
    },
    {
      "cell_type": "code",
      "metadata": {
        "id": "C1dJy5XEI4vP"
      },
      "source": [
        "for i in range (2,len(sequence)):\n",
        "  if i%2==0:\n",
        "    benefits.append(sequence[i])\n",
        "  else:\n",
        "    contra.append(sequence[i])\n",
        "\n",
        "for i in range (1,len(sequence2)):\n",
        "  asan.append(sequence2[i])"
      ],
      "execution_count": null,
      "outputs": []
    },
    {
      "cell_type": "code",
      "metadata": {
        "colab": {
          "base_uri": "https://localhost:8080/"
        },
        "id": "Gn1V35kYARhZ",
        "outputId": "d3ffc9b6-f9b8-4fa2-b1c0-061229279e70"
      },
      "source": [
        "len(asan)"
      ],
      "execution_count": null,
      "outputs": [
        {
          "output_type": "execute_result",
          "data": {
            "text/plain": [
              "237"
            ]
          },
          "metadata": {
            "tags": []
          },
          "execution_count": 50
        }
      ]
    },
    {
      "cell_type": "code",
      "metadata": {
        "colab": {
          "base_uri": "https://localhost:8080/"
        },
        "id": "4CA3RVgH1qfx",
        "outputId": "661a7d18-05ba-4fd2-b20c-8cdae483afa2"
      },
      "source": [
        "asan = np.asarray(asan)\n",
        "np.shape(asan)"
      ],
      "execution_count": null,
      "outputs": [
        {
          "output_type": "execute_result",
          "data": {
            "text/plain": [
              "(237, 1)"
            ]
          },
          "metadata": {
            "tags": []
          },
          "execution_count": 51
        }
      ]
    },
    {
      "cell_type": "code",
      "metadata": {
        "id": "03ZFUhAp1VmB"
      },
      "source": [
        "y = asan - 1\n",
        "y = tf.keras.utils.to_categorical(y,239)"
      ],
      "execution_count": null,
      "outputs": []
    },
    {
      "cell_type": "code",
      "metadata": {
        "colab": {
          "base_uri": "https://localhost:8080/"
        },
        "id": "bvCD9KfRZrn7",
        "outputId": "102de5aa-ca8c-441e-db4a-40dcac3c2222"
      },
      "source": [
        "print(asan[8])\n",
        "print(y[8])"
      ],
      "execution_count": null,
      "outputs": [
        {
          "output_type": "stream",
          "text": [
            "[11]\n",
            "[0. 0. 0. 0. 0. 0. 0. 0. 0. 0. 1. 0. 0. 0. 0. 0. 0. 0. 0. 0. 0. 0. 0. 0.\n",
            " 0. 0. 0. 0. 0. 0. 0. 0. 0. 0. 0. 0. 0. 0. 0. 0. 0. 0. 0. 0. 0. 0. 0. 0.\n",
            " 0. 0. 0. 0. 0. 0. 0. 0. 0. 0. 0. 0. 0. 0. 0. 0. 0. 0. 0. 0. 0. 0. 0. 0.\n",
            " 0. 0. 0. 0. 0. 0. 0. 0. 0. 0. 0. 0. 0. 0. 0. 0. 0. 0. 0. 0. 0. 0. 0. 0.\n",
            " 0. 0. 0. 0. 0. 0. 0. 0. 0. 0. 0. 0. 0. 0. 0. 0. 0. 0. 0. 0. 0. 0. 0. 0.\n",
            " 0. 0. 0. 0. 0. 0. 0. 0. 0. 0. 0. 0. 0. 0. 0. 0. 0. 0. 0. 0. 0. 0. 0. 0.\n",
            " 0. 0. 0. 0. 0. 0. 0. 0. 0. 0. 0. 0. 0. 0. 0. 0. 0. 0. 0. 0. 0. 0. 0. 0.\n",
            " 0. 0. 0. 0. 0. 0. 0. 0. 0. 0. 0. 0. 0. 0. 0. 0. 0. 0. 0. 0. 0. 0. 0. 0.\n",
            " 0. 0. 0. 0. 0. 0. 0. 0. 0. 0. 0. 0. 0. 0. 0. 0. 0. 0. 0. 0. 0. 0. 0. 0.\n",
            " 0. 0. 0. 0. 0. 0. 0. 0. 0. 0. 0. 0. 0. 0. 0. 0. 0. 0. 0. 0. 0. 0. 0.]\n"
          ],
          "name": "stdout"
        }
      ]
    },
    {
      "cell_type": "code",
      "metadata": {
        "colab": {
          "base_uri": "https://localhost:8080/"
        },
        "id": "JZjEM89A2RKX",
        "outputId": "7121bfda-2f51-4317-a836-5787be330bdd"
      },
      "source": [
        "np.shape(y)"
      ],
      "execution_count": null,
      "outputs": [
        {
          "output_type": "execute_result",
          "data": {
            "text/plain": [
              "(237, 239)"
            ]
          },
          "metadata": {
            "tags": []
          },
          "execution_count": 54
        }
      ]
    },
    {
      "cell_type": "code",
      "metadata": {
        "id": "3X-coLdgRAvL"
      },
      "source": [
        "benefits = pad_sequences(benefits,50,padding='post',truncating='pre')"
      ],
      "execution_count": null,
      "outputs": []
    },
    {
      "cell_type": "code",
      "metadata": {
        "colab": {
          "base_uri": "https://localhost:8080/"
        },
        "id": "4bZvelGXbWGz",
        "outputId": "c2e00f46-b41f-45cf-e4f0-f1beb6a52c82"
      },
      "source": [
        "(benefits[15])"
      ],
      "execution_count": null,
      "outputs": [
        {
          "output_type": "execute_result",
          "data": {
            "text/plain": [
              "array([  23,  179,   71,  380,  381,  447, 1304,   17,  284,  175,   74,\n",
              "          5,    5,   89,  176, 1305,  659,  285,  882,  100, 1306,  534,\n",
              "       1307, 1308,  285, 1309,  251,  883,  884, 1310, 1311, 1312, 1313,\n",
              "       1314, 1315,  285, 1316,  884, 1317, 1318, 1319,  885, 1320, 1321,\n",
              "        886,  885, 1322, 1323, 1324,  882], dtype=int32)"
            ]
          },
          "metadata": {
            "tags": []
          },
          "execution_count": 56
        }
      ]
    },
    {
      "cell_type": "code",
      "metadata": {
        "id": "AKwgVlCxu42W",
        "colab": {
          "base_uri": "https://localhost:8080/"
        },
        "outputId": "22a1f656-d7f0-4051-cf34-6f5b14ac21af"
      },
      "source": [
        "benefits = np.array(benefits)\n",
        "contra = np.array(contra)\n",
        "np.shape(benefits)"
      ],
      "execution_count": null,
      "outputs": [
        {
          "output_type": "stream",
          "text": [
            "/usr/local/lib/python3.7/dist-packages/ipykernel_launcher.py:2: VisibleDeprecationWarning: Creating an ndarray from ragged nested sequences (which is a list-or-tuple of lists-or-tuples-or ndarrays with different lengths or shapes) is deprecated. If you meant to do this, you must specify 'dtype=object' when creating the ndarray\n",
            "  \n"
          ],
          "name": "stderr"
        },
        {
          "output_type": "execute_result",
          "data": {
            "text/plain": [
              "(237, 50)"
            ]
          },
          "metadata": {
            "tags": []
          },
          "execution_count": 57
        }
      ]
    },
    {
      "cell_type": "code",
      "metadata": {
        "colab": {
          "base_uri": "https://localhost:8080/"
        },
        "id": "Ziv8s9YI4Lxn",
        "outputId": "605625e0-6272-41f5-c7fc-b2df27c0d5e6"
      },
      "source": [
        "import keras.backend as K\n",
        "from keras.models import Sequential\n",
        "from keras.layers import Dense, Embedding, Lambda, Flatten, Reshape\n",
        "import tensorflow as tf\n",
        "\n",
        "model = Sequential()\n",
        "model.add(Embedding(2350,20,input_length=50))\n",
        "model.add(Lambda(lambda x: K.mean(x, axis=1), output_shape=(embed_size,)))\n",
        "model.add(Dense(vocab_size2, activation='softmax'))\n",
        "model.compile(loss=tf.keras.losses.CategoricalCrossentropy(), optimizer='adam',metrics=['accuracy'])\n",
        "print(model.summary())"
      ],
      "execution_count": null,
      "outputs": [
        {
          "output_type": "stream",
          "text": [
            "Model: \"sequential\"\n",
            "_________________________________________________________________\n",
            "Layer (type)                 Output Shape              Param #   \n",
            "=================================================================\n",
            "embedding (Embedding)        (None, 50, 20)            47000     \n",
            "_________________________________________________________________\n",
            "lambda (Lambda)              (None, 20)                0         \n",
            "_________________________________________________________________\n",
            "dense (Dense)                (None, 239)               5019      \n",
            "=================================================================\n",
            "Total params: 52,019\n",
            "Trainable params: 52,019\n",
            "Non-trainable params: 0\n",
            "_________________________________________________________________\n",
            "None\n"
          ],
          "name": "stdout"
        }
      ]
    },
    {
      "cell_type": "code",
      "metadata": {
        "id": "Ui59sykMxqC-",
        "colab": {
          "base_uri": "https://localhost:8080/"
        },
        "outputId": "80279749-02e5-4ac8-859f-2e51d3f1bc9e"
      },
      "source": [
        "history = model.fit(benefits,y,epochs=500,batch_size=32)"
      ],
      "execution_count": null,
      "outputs": [
        {
          "output_type": "stream",
          "text": [
            "Epoch 1/500\n",
            "8/8 [==============================] - 17s 4ms/step - loss: 5.4783 - accuracy: 0.0000e+00\n",
            "Epoch 2/500\n",
            "8/8 [==============================] - 0s 3ms/step - loss: 5.4750 - accuracy: 0.0352\n",
            "Epoch 3/500\n",
            "8/8 [==============================] - 0s 3ms/step - loss: 5.4734 - accuracy: 0.0512\n",
            "Epoch 4/500\n",
            "8/8 [==============================] - 0s 3ms/step - loss: 5.4716 - accuracy: 0.0640\n",
            "Epoch 5/500\n",
            "8/8 [==============================] - 0s 4ms/step - loss: 5.4701 - accuracy: 0.1029\n",
            "Epoch 6/500\n",
            "8/8 [==============================] - 0s 3ms/step - loss: 5.4683 - accuracy: 0.1291\n",
            "Epoch 7/500\n",
            "8/8 [==============================] - 0s 4ms/step - loss: 5.4655 - accuracy: 0.1989\n",
            "Epoch 8/500\n",
            "8/8 [==============================] - 0s 4ms/step - loss: 5.4628 - accuracy: 0.1999\n",
            "Epoch 9/500\n",
            "8/8 [==============================] - 0s 4ms/step - loss: 5.4597 - accuracy: 0.1993\n",
            "Epoch 10/500\n",
            "8/8 [==============================] - 0s 5ms/step - loss: 5.4576 - accuracy: 0.2305\n",
            "Epoch 11/500\n",
            "8/8 [==============================] - 0s 4ms/step - loss: 5.4537 - accuracy: 0.2099\n",
            "Epoch 12/500\n",
            "8/8 [==============================] - 0s 4ms/step - loss: 5.4496 - accuracy: 0.2111\n",
            "Epoch 13/500\n",
            "8/8 [==============================] - 0s 4ms/step - loss: 5.4440 - accuracy: 0.2507\n",
            "Epoch 14/500\n",
            "8/8 [==============================] - 0s 4ms/step - loss: 5.4393 - accuracy: 0.2319\n",
            "Epoch 15/500\n",
            "8/8 [==============================] - 0s 5ms/step - loss: 5.4330 - accuracy: 0.2553\n",
            "Epoch 16/500\n",
            "8/8 [==============================] - 0s 3ms/step - loss: 5.4240 - accuracy: 0.2576\n",
            "Epoch 17/500\n",
            "8/8 [==============================] - 0s 3ms/step - loss: 5.4178 - accuracy: 0.2185\n",
            "Epoch 18/500\n",
            "8/8 [==============================] - 0s 5ms/step - loss: 5.4102 - accuracy: 0.2058\n",
            "Epoch 19/500\n",
            "8/8 [==============================] - 0s 3ms/step - loss: 5.3996 - accuracy: 0.2445\n",
            "Epoch 20/500\n",
            "8/8 [==============================] - 0s 4ms/step - loss: 5.3925 - accuracy: 0.2317\n",
            "Epoch 21/500\n",
            "8/8 [==============================] - 0s 4ms/step - loss: 5.3800 - accuracy: 0.2341\n",
            "Epoch 22/500\n",
            "8/8 [==============================] - 0s 4ms/step - loss: 5.3668 - accuracy: 0.2249\n",
            "Epoch 23/500\n",
            "8/8 [==============================] - 0s 4ms/step - loss: 5.3565 - accuracy: 0.1919\n",
            "Epoch 24/500\n",
            "8/8 [==============================] - 0s 4ms/step - loss: 5.3461 - accuracy: 0.2118\n",
            "Epoch 25/500\n",
            "8/8 [==============================] - 0s 4ms/step - loss: 5.3318 - accuracy: 0.1899\n",
            "Epoch 26/500\n",
            "8/8 [==============================] - 0s 4ms/step - loss: 5.3262 - accuracy: 0.1626\n",
            "Epoch 27/500\n",
            "8/8 [==============================] - 0s 5ms/step - loss: 5.3087 - accuracy: 0.1697\n",
            "Epoch 28/500\n",
            "8/8 [==============================] - 0s 5ms/step - loss: 5.2909 - accuracy: 0.1643\n",
            "Epoch 29/500\n",
            "8/8 [==============================] - 0s 4ms/step - loss: 5.2853 - accuracy: 0.1433\n",
            "Epoch 30/500\n",
            "8/8 [==============================] - 0s 4ms/step - loss: 5.2607 - accuracy: 0.1492\n",
            "Epoch 31/500\n",
            "8/8 [==============================] - 0s 3ms/step - loss: 5.2487 - accuracy: 0.1339\n",
            "Epoch 32/500\n",
            "8/8 [==============================] - 0s 3ms/step - loss: 5.2280 - accuracy: 0.1411\n",
            "Epoch 33/500\n",
            "8/8 [==============================] - 0s 3ms/step - loss: 5.2154 - accuracy: 0.1830\n",
            "Epoch 34/500\n",
            "8/8 [==============================] - 0s 3ms/step - loss: 5.2131 - accuracy: 0.1685\n",
            "Epoch 35/500\n",
            "8/8 [==============================] - 0s 4ms/step - loss: 5.1884 - accuracy: 0.1202\n",
            "Epoch 36/500\n",
            "8/8 [==============================] - 0s 3ms/step - loss: 5.1743 - accuracy: 0.1775\n",
            "Epoch 37/500\n",
            "8/8 [==============================] - 0s 3ms/step - loss: 5.1800 - accuracy: 0.1451\n",
            "Epoch 38/500\n",
            "8/8 [==============================] - 0s 3ms/step - loss: 5.1441 - accuracy: 0.1374\n",
            "Epoch 39/500\n",
            "8/8 [==============================] - 0s 3ms/step - loss: 5.1409 - accuracy: 0.1659\n",
            "Epoch 40/500\n",
            "8/8 [==============================] - 0s 3ms/step - loss: 5.1205 - accuracy: 0.1162\n",
            "Epoch 41/500\n",
            "8/8 [==============================] - 0s 3ms/step - loss: 5.1129 - accuracy: 0.1443\n",
            "Epoch 42/500\n",
            "8/8 [==============================] - 0s 3ms/step - loss: 5.1023 - accuracy: 0.1491\n",
            "Epoch 43/500\n",
            "8/8 [==============================] - 0s 4ms/step - loss: 5.0864 - accuracy: 0.1544\n",
            "Epoch 44/500\n",
            "8/8 [==============================] - 0s 4ms/step - loss: 5.0879 - accuracy: 0.1362\n",
            "Epoch 45/500\n",
            "8/8 [==============================] - 0s 3ms/step - loss: 5.0657 - accuracy: 0.1470\n",
            "Epoch 46/500\n",
            "8/8 [==============================] - 0s 3ms/step - loss: 5.0362 - accuracy: 0.1609\n",
            "Epoch 47/500\n",
            "8/8 [==============================] - 0s 4ms/step - loss: 5.0264 - accuracy: 0.1702\n",
            "Epoch 48/500\n",
            "8/8 [==============================] - 0s 5ms/step - loss: 5.0199 - accuracy: 0.1604\n",
            "Epoch 49/500\n",
            "8/8 [==============================] - 0s 4ms/step - loss: 5.0191 - accuracy: 0.1868\n",
            "Epoch 50/500\n",
            "8/8 [==============================] - 0s 4ms/step - loss: 5.0013 - accuracy: 0.1809\n",
            "Epoch 51/500\n",
            "8/8 [==============================] - 0s 4ms/step - loss: 4.9947 - accuracy: 0.1648\n",
            "Epoch 52/500\n",
            "8/8 [==============================] - 0s 4ms/step - loss: 4.9986 - accuracy: 0.1552\n",
            "Epoch 53/500\n",
            "8/8 [==============================] - 0s 4ms/step - loss: 4.9754 - accuracy: 0.1910\n",
            "Epoch 54/500\n",
            "8/8 [==============================] - 0s 4ms/step - loss: 4.9758 - accuracy: 0.1803\n",
            "Epoch 55/500\n",
            "8/8 [==============================] - 0s 3ms/step - loss: 4.9507 - accuracy: 0.1654\n",
            "Epoch 56/500\n",
            "8/8 [==============================] - 0s 5ms/step - loss: 4.9569 - accuracy: 0.1791\n",
            "Epoch 57/500\n",
            "8/8 [==============================] - 0s 4ms/step - loss: 4.9185 - accuracy: 0.1975\n",
            "Epoch 58/500\n",
            "8/8 [==============================] - 0s 6ms/step - loss: 4.9232 - accuracy: 0.1722\n",
            "Epoch 59/500\n",
            "8/8 [==============================] - 0s 4ms/step - loss: 4.8941 - accuracy: 0.2096\n",
            "Epoch 60/500\n",
            "8/8 [==============================] - 0s 4ms/step - loss: 4.8919 - accuracy: 0.2234\n",
            "Epoch 61/500\n",
            "8/8 [==============================] - 0s 4ms/step - loss: 4.8946 - accuracy: 0.2077\n",
            "Epoch 62/500\n",
            "8/8 [==============================] - 0s 4ms/step - loss: 4.8740 - accuracy: 0.2531\n",
            "Epoch 63/500\n",
            "8/8 [==============================] - 0s 4ms/step - loss: 4.8922 - accuracy: 0.2268\n",
            "Epoch 64/500\n",
            "8/8 [==============================] - 0s 4ms/step - loss: 4.8379 - accuracy: 0.2487\n",
            "Epoch 65/500\n",
            "8/8 [==============================] - 0s 3ms/step - loss: 4.8470 - accuracy: 0.2042\n",
            "Epoch 66/500\n",
            "8/8 [==============================] - 0s 3ms/step - loss: 4.8277 - accuracy: 0.2369\n",
            "Epoch 67/500\n",
            "8/8 [==============================] - 0s 4ms/step - loss: 4.8465 - accuracy: 0.2350\n",
            "Epoch 68/500\n",
            "8/8 [==============================] - 0s 4ms/step - loss: 4.8120 - accuracy: 0.2804\n",
            "Epoch 69/500\n",
            "8/8 [==============================] - 0s 3ms/step - loss: 4.7983 - accuracy: 0.2237\n",
            "Epoch 70/500\n",
            "8/8 [==============================] - 0s 4ms/step - loss: 4.8016 - accuracy: 0.2435\n",
            "Epoch 71/500\n",
            "8/8 [==============================] - 0s 4ms/step - loss: 4.7840 - accuracy: 0.2611\n",
            "Epoch 72/500\n",
            "8/8 [==============================] - 0s 3ms/step - loss: 4.7479 - accuracy: 0.2333\n",
            "Epoch 73/500\n",
            "8/8 [==============================] - 0s 4ms/step - loss: 4.7865 - accuracy: 0.2512\n",
            "Epoch 74/500\n",
            "8/8 [==============================] - 0s 4ms/step - loss: 4.7534 - accuracy: 0.2717\n",
            "Epoch 75/500\n",
            "8/8 [==============================] - 0s 4ms/step - loss: 4.7337 - accuracy: 0.3189\n",
            "Epoch 76/500\n",
            "8/8 [==============================] - 0s 4ms/step - loss: 4.7356 - accuracy: 0.3053\n",
            "Epoch 77/500\n",
            "8/8 [==============================] - 0s 3ms/step - loss: 4.7244 - accuracy: 0.2756\n",
            "Epoch 78/500\n",
            "8/8 [==============================] - 0s 4ms/step - loss: 4.7260 - accuracy: 0.3035\n",
            "Epoch 79/500\n",
            "8/8 [==============================] - 0s 4ms/step - loss: 4.7060 - accuracy: 0.3209\n",
            "Epoch 80/500\n",
            "8/8 [==============================] - 0s 3ms/step - loss: 4.7033 - accuracy: 0.3081\n",
            "Epoch 81/500\n",
            "8/8 [==============================] - 0s 4ms/step - loss: 4.6862 - accuracy: 0.3038\n",
            "Epoch 82/500\n",
            "8/8 [==============================] - 0s 5ms/step - loss: 4.6691 - accuracy: 0.3098\n",
            "Epoch 83/500\n",
            "8/8 [==============================] - 0s 4ms/step - loss: 4.6797 - accuracy: 0.3160\n",
            "Epoch 84/500\n",
            "8/8 [==============================] - 0s 3ms/step - loss: 4.6261 - accuracy: 0.3729\n",
            "Epoch 85/500\n",
            "8/8 [==============================] - 0s 3ms/step - loss: 4.6572 - accuracy: 0.3141\n",
            "Epoch 86/500\n",
            "8/8 [==============================] - 0s 3ms/step - loss: 4.6045 - accuracy: 0.3611\n",
            "Epoch 87/500\n",
            "8/8 [==============================] - 0s 4ms/step - loss: 4.6494 - accuracy: 0.3269\n",
            "Epoch 88/500\n",
            "8/8 [==============================] - 0s 5ms/step - loss: 4.6248 - accuracy: 0.3658\n",
            "Epoch 89/500\n",
            "8/8 [==============================] - 0s 4ms/step - loss: 4.6211 - accuracy: 0.3286\n",
            "Epoch 90/500\n",
            "8/8 [==============================] - 0s 4ms/step - loss: 4.6224 - accuracy: 0.3175\n",
            "Epoch 91/500\n",
            "8/8 [==============================] - 0s 5ms/step - loss: 4.5390 - accuracy: 0.3716\n",
            "Epoch 92/500\n",
            "8/8 [==============================] - 0s 5ms/step - loss: 4.5828 - accuracy: 0.3711\n",
            "Epoch 93/500\n",
            "8/8 [==============================] - 0s 5ms/step - loss: 4.5492 - accuracy: 0.3766\n",
            "Epoch 94/500\n",
            "8/8 [==============================] - 0s 5ms/step - loss: 4.5323 - accuracy: 0.3814\n",
            "Epoch 95/500\n",
            "8/8 [==============================] - 0s 4ms/step - loss: 4.5491 - accuracy: 0.3542\n",
            "Epoch 96/500\n",
            "8/8 [==============================] - 0s 5ms/step - loss: 4.5127 - accuracy: 0.4013\n",
            "Epoch 97/500\n",
            "8/8 [==============================] - 0s 5ms/step - loss: 4.5171 - accuracy: 0.3931\n",
            "Epoch 98/500\n",
            "8/8 [==============================] - 0s 4ms/step - loss: 4.4889 - accuracy: 0.4252\n",
            "Epoch 99/500\n",
            "8/8 [==============================] - 0s 5ms/step - loss: 4.5152 - accuracy: 0.3923\n",
            "Epoch 100/500\n",
            "8/8 [==============================] - 0s 4ms/step - loss: 4.4827 - accuracy: 0.3916\n",
            "Epoch 101/500\n",
            "8/8 [==============================] - 0s 3ms/step - loss: 4.4518 - accuracy: 0.3887\n",
            "Epoch 102/500\n",
            "8/8 [==============================] - 0s 4ms/step - loss: 4.4661 - accuracy: 0.3950\n",
            "Epoch 103/500\n",
            "8/8 [==============================] - 0s 4ms/step - loss: 4.4456 - accuracy: 0.3971\n",
            "Epoch 104/500\n",
            "8/8 [==============================] - 0s 4ms/step - loss: 4.4856 - accuracy: 0.3711\n",
            "Epoch 105/500\n",
            "8/8 [==============================] - 0s 4ms/step - loss: 4.4170 - accuracy: 0.3875\n",
            "Epoch 106/500\n",
            "8/8 [==============================] - 0s 5ms/step - loss: 4.4299 - accuracy: 0.4154\n",
            "Epoch 107/500\n",
            "8/8 [==============================] - 0s 3ms/step - loss: 4.4413 - accuracy: 0.3990\n",
            "Epoch 108/500\n",
            "8/8 [==============================] - 0s 3ms/step - loss: 4.3831 - accuracy: 0.4035\n",
            "Epoch 109/500\n",
            "8/8 [==============================] - 0s 3ms/step - loss: 4.4076 - accuracy: 0.3998\n",
            "Epoch 110/500\n",
            "8/8 [==============================] - 0s 4ms/step - loss: 4.3648 - accuracy: 0.4201\n",
            "Epoch 111/500\n",
            "8/8 [==============================] - 0s 4ms/step - loss: 4.3326 - accuracy: 0.4300\n",
            "Epoch 112/500\n",
            "8/8 [==============================] - 0s 4ms/step - loss: 4.3451 - accuracy: 0.4068\n",
            "Epoch 113/500\n",
            "8/8 [==============================] - 0s 5ms/step - loss: 4.4241 - accuracy: 0.3743\n",
            "Epoch 114/500\n",
            "8/8 [==============================] - 0s 4ms/step - loss: 4.2624 - accuracy: 0.4198\n",
            "Epoch 115/500\n",
            "8/8 [==============================] - 0s 5ms/step - loss: 4.3754 - accuracy: 0.3984\n",
            "Epoch 116/500\n",
            "8/8 [==============================] - 0s 4ms/step - loss: 4.3543 - accuracy: 0.3923\n",
            "Epoch 117/500\n",
            "8/8 [==============================] - 0s 3ms/step - loss: 4.3026 - accuracy: 0.3922\n",
            "Epoch 118/500\n",
            "8/8 [==============================] - 0s 4ms/step - loss: 4.2704 - accuracy: 0.3988\n",
            "Epoch 119/500\n",
            "8/8 [==============================] - 0s 4ms/step - loss: 4.2582 - accuracy: 0.4314\n",
            "Epoch 120/500\n",
            "8/8 [==============================] - 0s 5ms/step - loss: 4.2739 - accuracy: 0.4404\n",
            "Epoch 121/500\n",
            "8/8 [==============================] - 0s 4ms/step - loss: 4.2599 - accuracy: 0.4286\n",
            "Epoch 122/500\n",
            "8/8 [==============================] - 0s 5ms/step - loss: 4.2989 - accuracy: 0.4305\n",
            "Epoch 123/500\n",
            "8/8 [==============================] - 0s 4ms/step - loss: 4.2215 - accuracy: 0.4412\n",
            "Epoch 124/500\n",
            "8/8 [==============================] - 0s 4ms/step - loss: 4.2174 - accuracy: 0.4218\n",
            "Epoch 125/500\n",
            "8/8 [==============================] - 0s 4ms/step - loss: 4.1813 - accuracy: 0.4401\n",
            "Epoch 126/500\n",
            "8/8 [==============================] - 0s 4ms/step - loss: 4.1880 - accuracy: 0.4502\n",
            "Epoch 127/500\n",
            "8/8 [==============================] - 0s 3ms/step - loss: 4.1631 - accuracy: 0.4536\n",
            "Epoch 128/500\n",
            "8/8 [==============================] - 0s 4ms/step - loss: 4.1481 - accuracy: 0.4540\n",
            "Epoch 129/500\n",
            "8/8 [==============================] - 0s 4ms/step - loss: 4.1624 - accuracy: 0.4568\n",
            "Epoch 130/500\n",
            "8/8 [==============================] - 0s 4ms/step - loss: 4.1202 - accuracy: 0.4279\n",
            "Epoch 131/500\n",
            "8/8 [==============================] - 0s 5ms/step - loss: 4.1618 - accuracy: 0.4642\n",
            "Epoch 132/500\n",
            "8/8 [==============================] - 0s 4ms/step - loss: 4.1460 - accuracy: 0.4223\n",
            "Epoch 133/500\n",
            "8/8 [==============================] - 0s 4ms/step - loss: 4.1641 - accuracy: 0.3964\n",
            "Epoch 134/500\n",
            "8/8 [==============================] - 0s 4ms/step - loss: 4.0784 - accuracy: 0.4824\n",
            "Epoch 135/500\n",
            "8/8 [==============================] - 0s 4ms/step - loss: 4.0802 - accuracy: 0.4923\n",
            "Epoch 136/500\n",
            "8/8 [==============================] - 0s 4ms/step - loss: 4.0981 - accuracy: 0.4428\n",
            "Epoch 137/500\n",
            "8/8 [==============================] - 0s 5ms/step - loss: 4.1695 - accuracy: 0.4221\n",
            "Epoch 138/500\n",
            "8/8 [==============================] - 0s 3ms/step - loss: 4.0699 - accuracy: 0.4311\n",
            "Epoch 139/500\n",
            "8/8 [==============================] - 0s 4ms/step - loss: 4.0530 - accuracy: 0.4613\n",
            "Epoch 140/500\n",
            "8/8 [==============================] - 0s 3ms/step - loss: 4.0448 - accuracy: 0.4462\n",
            "Epoch 141/500\n",
            "8/8 [==============================] - 0s 4ms/step - loss: 3.9967 - accuracy: 0.4777\n",
            "Epoch 142/500\n",
            "8/8 [==============================] - 0s 3ms/step - loss: 3.9742 - accuracy: 0.4665\n",
            "Epoch 143/500\n",
            "8/8 [==============================] - 0s 4ms/step - loss: 3.9646 - accuracy: 0.4740\n",
            "Epoch 144/500\n",
            "8/8 [==============================] - 0s 4ms/step - loss: 3.9751 - accuracy: 0.5020\n",
            "Epoch 145/500\n",
            "8/8 [==============================] - 0s 4ms/step - loss: 4.0233 - accuracy: 0.4540\n",
            "Epoch 146/500\n",
            "8/8 [==============================] - 0s 4ms/step - loss: 3.9883 - accuracy: 0.4584\n",
            "Epoch 147/500\n",
            "8/8 [==============================] - 0s 4ms/step - loss: 3.8846 - accuracy: 0.5105\n",
            "Epoch 148/500\n",
            "8/8 [==============================] - 0s 4ms/step - loss: 3.8673 - accuracy: 0.4988\n",
            "Epoch 149/500\n",
            "8/8 [==============================] - 0s 5ms/step - loss: 3.9427 - accuracy: 0.4748\n",
            "Epoch 150/500\n",
            "8/8 [==============================] - 0s 5ms/step - loss: 3.8894 - accuracy: 0.4940\n",
            "Epoch 151/500\n",
            "8/8 [==============================] - 0s 5ms/step - loss: 3.9825 - accuracy: 0.4541\n",
            "Epoch 152/500\n",
            "8/8 [==============================] - 0s 4ms/step - loss: 3.9008 - accuracy: 0.4885\n",
            "Epoch 153/500\n",
            "8/8 [==============================] - 0s 4ms/step - loss: 3.9129 - accuracy: 0.4689\n",
            "Epoch 154/500\n",
            "8/8 [==============================] - 0s 4ms/step - loss: 3.8378 - accuracy: 0.4909\n",
            "Epoch 155/500\n",
            "8/8 [==============================] - 0s 5ms/step - loss: 3.8408 - accuracy: 0.4972\n",
            "Epoch 156/500\n",
            "8/8 [==============================] - 0s 5ms/step - loss: 3.8404 - accuracy: 0.4733\n",
            "Epoch 157/500\n",
            "8/8 [==============================] - 0s 4ms/step - loss: 3.9218 - accuracy: 0.4408\n",
            "Epoch 158/500\n",
            "8/8 [==============================] - 0s 4ms/step - loss: 3.7657 - accuracy: 0.4789\n",
            "Epoch 159/500\n",
            "8/8 [==============================] - 0s 4ms/step - loss: 3.8946 - accuracy: 0.4433\n",
            "Epoch 160/500\n",
            "8/8 [==============================] - 0s 4ms/step - loss: 3.7070 - accuracy: 0.4918\n",
            "Epoch 161/500\n",
            "8/8 [==============================] - 0s 3ms/step - loss: 3.7138 - accuracy: 0.4858\n",
            "Epoch 162/500\n",
            "8/8 [==============================] - 0s 4ms/step - loss: 3.7286 - accuracy: 0.4958\n",
            "Epoch 163/500\n",
            "8/8 [==============================] - 0s 4ms/step - loss: 3.7476 - accuracy: 0.4894\n",
            "Epoch 164/500\n",
            "8/8 [==============================] - 0s 4ms/step - loss: 3.7606 - accuracy: 0.4678\n",
            "Epoch 165/500\n",
            "8/8 [==============================] - 0s 4ms/step - loss: 3.8030 - accuracy: 0.4694\n",
            "Epoch 166/500\n",
            "8/8 [==============================] - 0s 4ms/step - loss: 3.8097 - accuracy: 0.4535\n",
            "Epoch 167/500\n",
            "8/8 [==============================] - 0s 4ms/step - loss: 3.6584 - accuracy: 0.4885\n",
            "Epoch 168/500\n",
            "8/8 [==============================] - 0s 4ms/step - loss: 3.7660 - accuracy: 0.4673\n",
            "Epoch 169/500\n",
            "8/8 [==============================] - 0s 3ms/step - loss: 3.7017 - accuracy: 0.4782\n",
            "Epoch 170/500\n",
            "8/8 [==============================] - 0s 4ms/step - loss: 3.6905 - accuracy: 0.4966\n",
            "Epoch 171/500\n",
            "8/8 [==============================] - 0s 5ms/step - loss: 3.6135 - accuracy: 0.4823\n",
            "Epoch 172/500\n",
            "8/8 [==============================] - 0s 4ms/step - loss: 3.6282 - accuracy: 0.4990\n",
            "Epoch 173/500\n",
            "8/8 [==============================] - 0s 3ms/step - loss: 3.6139 - accuracy: 0.4842\n",
            "Epoch 174/500\n",
            "8/8 [==============================] - 0s 4ms/step - loss: 3.6698 - accuracy: 0.5116\n",
            "Epoch 175/500\n",
            "8/8 [==============================] - 0s 4ms/step - loss: 3.5596 - accuracy: 0.5002\n",
            "Epoch 176/500\n",
            "8/8 [==============================] - 0s 4ms/step - loss: 3.6186 - accuracy: 0.4593\n",
            "Epoch 177/500\n",
            "8/8 [==============================] - 0s 5ms/step - loss: 3.5875 - accuracy: 0.5018\n",
            "Epoch 178/500\n",
            "8/8 [==============================] - 0s 4ms/step - loss: 3.5412 - accuracy: 0.5129\n",
            "Epoch 179/500\n",
            "8/8 [==============================] - 0s 4ms/step - loss: 3.5763 - accuracy: 0.4779\n",
            "Epoch 180/500\n",
            "8/8 [==============================] - 0s 4ms/step - loss: 3.5027 - accuracy: 0.5069\n",
            "Epoch 181/500\n",
            "8/8 [==============================] - 0s 5ms/step - loss: 3.5196 - accuracy: 0.5114\n",
            "Epoch 182/500\n",
            "8/8 [==============================] - 0s 5ms/step - loss: 3.5669 - accuracy: 0.4976\n",
            "Epoch 183/500\n",
            "8/8 [==============================] - 0s 6ms/step - loss: 3.5776 - accuracy: 0.4941\n",
            "Epoch 184/500\n",
            "8/8 [==============================] - 0s 3ms/step - loss: 3.6356 - accuracy: 0.4707\n",
            "Epoch 185/500\n",
            "8/8 [==============================] - 0s 4ms/step - loss: 3.4965 - accuracy: 0.5168\n",
            "Epoch 186/500\n",
            "8/8 [==============================] - 0s 4ms/step - loss: 3.4219 - accuracy: 0.5270\n",
            "Epoch 187/500\n",
            "8/8 [==============================] - 0s 4ms/step - loss: 3.4786 - accuracy: 0.5132\n",
            "Epoch 188/500\n",
            "8/8 [==============================] - 0s 5ms/step - loss: 3.4381 - accuracy: 0.5191\n",
            "Epoch 189/500\n",
            "8/8 [==============================] - 0s 4ms/step - loss: 3.3984 - accuracy: 0.5116\n",
            "Epoch 190/500\n",
            "8/8 [==============================] - 0s 4ms/step - loss: 3.5314 - accuracy: 0.4869\n",
            "Epoch 191/500\n",
            "8/8 [==============================] - 0s 4ms/step - loss: 3.4720 - accuracy: 0.4819\n",
            "Epoch 192/500\n",
            "8/8 [==============================] - 0s 4ms/step - loss: 3.3629 - accuracy: 0.5087\n",
            "Epoch 193/500\n",
            "8/8 [==============================] - 0s 4ms/step - loss: 3.3663 - accuracy: 0.5130\n",
            "Epoch 194/500\n",
            "8/8 [==============================] - 0s 4ms/step - loss: 3.3917 - accuracy: 0.5002\n",
            "Epoch 195/500\n",
            "8/8 [==============================] - 0s 4ms/step - loss: 3.3622 - accuracy: 0.5174\n",
            "Epoch 196/500\n",
            "8/8 [==============================] - 0s 4ms/step - loss: 3.4611 - accuracy: 0.4754\n",
            "Epoch 197/500\n",
            "8/8 [==============================] - 0s 4ms/step - loss: 3.3498 - accuracy: 0.5420\n",
            "Epoch 198/500\n",
            "8/8 [==============================] - 0s 4ms/step - loss: 3.2193 - accuracy: 0.5545\n",
            "Epoch 199/500\n",
            "8/8 [==============================] - 0s 5ms/step - loss: 3.3900 - accuracy: 0.5029\n",
            "Epoch 200/500\n",
            "8/8 [==============================] - 0s 4ms/step - loss: 3.3666 - accuracy: 0.5167\n",
            "Epoch 201/500\n",
            "8/8 [==============================] - 0s 3ms/step - loss: 3.3680 - accuracy: 0.4836\n",
            "Epoch 202/500\n",
            "8/8 [==============================] - 0s 4ms/step - loss: 3.4059 - accuracy: 0.5075\n",
            "Epoch 203/500\n",
            "8/8 [==============================] - 0s 4ms/step - loss: 3.3460 - accuracy: 0.5310\n",
            "Epoch 204/500\n",
            "8/8 [==============================] - 0s 4ms/step - loss: 3.3363 - accuracy: 0.5091\n",
            "Epoch 205/500\n",
            "8/8 [==============================] - 0s 4ms/step - loss: 3.3948 - accuracy: 0.5060\n",
            "Epoch 206/500\n",
            "8/8 [==============================] - 0s 4ms/step - loss: 3.3721 - accuracy: 0.5199\n",
            "Epoch 207/500\n",
            "8/8 [==============================] - 0s 5ms/step - loss: 3.2843 - accuracy: 0.5138\n",
            "Epoch 208/500\n",
            "8/8 [==============================] - 0s 4ms/step - loss: 3.3254 - accuracy: 0.5393\n",
            "Epoch 209/500\n",
            "8/8 [==============================] - 0s 4ms/step - loss: 3.2568 - accuracy: 0.5499\n",
            "Epoch 210/500\n",
            "8/8 [==============================] - 0s 3ms/step - loss: 3.2170 - accuracy: 0.5496\n",
            "Epoch 211/500\n",
            "8/8 [==============================] - 0s 5ms/step - loss: 3.2274 - accuracy: 0.5432\n",
            "Epoch 212/500\n",
            "8/8 [==============================] - 0s 4ms/step - loss: 3.2099 - accuracy: 0.5547\n",
            "Epoch 213/500\n",
            "8/8 [==============================] - 0s 4ms/step - loss: 3.1043 - accuracy: 0.5814\n",
            "Epoch 214/500\n",
            "8/8 [==============================] - 0s 4ms/step - loss: 3.1624 - accuracy: 0.5574\n",
            "Epoch 215/500\n",
            "8/8 [==============================] - 0s 4ms/step - loss: 3.1389 - accuracy: 0.5729\n",
            "Epoch 216/500\n",
            "8/8 [==============================] - 0s 4ms/step - loss: 3.1195 - accuracy: 0.5801\n",
            "Epoch 217/500\n",
            "8/8 [==============================] - 0s 4ms/step - loss: 3.2675 - accuracy: 0.5208\n",
            "Epoch 218/500\n",
            "8/8 [==============================] - 0s 5ms/step - loss: 3.1362 - accuracy: 0.5822\n",
            "Epoch 219/500\n",
            "8/8 [==============================] - 0s 4ms/step - loss: 3.1823 - accuracy: 0.5627\n",
            "Epoch 220/500\n",
            "8/8 [==============================] - 0s 3ms/step - loss: 3.1265 - accuracy: 0.5657\n",
            "Epoch 221/500\n",
            "8/8 [==============================] - 0s 4ms/step - loss: 3.1597 - accuracy: 0.5550\n",
            "Epoch 222/500\n",
            "8/8 [==============================] - 0s 5ms/step - loss: 3.1357 - accuracy: 0.5548\n",
            "Epoch 223/500\n",
            "8/8 [==============================] - 0s 4ms/step - loss: 3.0414 - accuracy: 0.6060\n",
            "Epoch 224/500\n",
            "8/8 [==============================] - 0s 4ms/step - loss: 3.0936 - accuracy: 0.5981\n",
            "Epoch 225/500\n",
            "8/8 [==============================] - 0s 4ms/step - loss: 3.2240 - accuracy: 0.5473\n",
            "Epoch 226/500\n",
            "8/8 [==============================] - 0s 4ms/step - loss: 3.1448 - accuracy: 0.5423\n",
            "Epoch 227/500\n",
            "8/8 [==============================] - 0s 3ms/step - loss: 3.1728 - accuracy: 0.5510\n",
            "Epoch 228/500\n",
            "8/8 [==============================] - 0s 4ms/step - loss: 3.0853 - accuracy: 0.5905\n",
            "Epoch 229/500\n",
            "8/8 [==============================] - 0s 6ms/step - loss: 3.0003 - accuracy: 0.6052\n",
            "Epoch 230/500\n",
            "8/8 [==============================] - 0s 3ms/step - loss: 2.9671 - accuracy: 0.5867\n",
            "Epoch 231/500\n",
            "8/8 [==============================] - 0s 3ms/step - loss: 3.1269 - accuracy: 0.5848\n",
            "Epoch 232/500\n",
            "8/8 [==============================] - 0s 4ms/step - loss: 3.0848 - accuracy: 0.5671\n",
            "Epoch 233/500\n",
            "8/8 [==============================] - 0s 5ms/step - loss: 3.1755 - accuracy: 0.5303\n",
            "Epoch 234/500\n",
            "8/8 [==============================] - 0s 3ms/step - loss: 3.0234 - accuracy: 0.5712\n",
            "Epoch 235/500\n",
            "8/8 [==============================] - 0s 4ms/step - loss: 3.0147 - accuracy: 0.6232\n",
            "Epoch 236/500\n",
            "8/8 [==============================] - 0s 4ms/step - loss: 3.0354 - accuracy: 0.5765\n",
            "Epoch 237/500\n",
            "8/8 [==============================] - 0s 4ms/step - loss: 2.9225 - accuracy: 0.6225\n",
            "Epoch 238/500\n",
            "8/8 [==============================] - 0s 5ms/step - loss: 3.0296 - accuracy: 0.6065\n",
            "Epoch 239/500\n",
            "8/8 [==============================] - 0s 4ms/step - loss: 2.9304 - accuracy: 0.5816\n",
            "Epoch 240/500\n",
            "8/8 [==============================] - 0s 4ms/step - loss: 3.0302 - accuracy: 0.5702\n",
            "Epoch 241/500\n",
            "8/8 [==============================] - 0s 5ms/step - loss: 2.9895 - accuracy: 0.6016\n",
            "Epoch 242/500\n",
            "8/8 [==============================] - 0s 4ms/step - loss: 2.9537 - accuracy: 0.6030\n",
            "Epoch 243/500\n",
            "8/8 [==============================] - 0s 4ms/step - loss: 3.0513 - accuracy: 0.5629\n",
            "Epoch 244/500\n",
            "8/8 [==============================] - 0s 3ms/step - loss: 2.8704 - accuracy: 0.6119\n",
            "Epoch 245/500\n",
            "8/8 [==============================] - 0s 4ms/step - loss: 2.9664 - accuracy: 0.5910\n",
            "Epoch 246/500\n",
            "8/8 [==============================] - 0s 4ms/step - loss: 2.9725 - accuracy: 0.6008\n",
            "Epoch 247/500\n",
            "8/8 [==============================] - 0s 3ms/step - loss: 2.9325 - accuracy: 0.5960\n",
            "Epoch 248/500\n",
            "8/8 [==============================] - 0s 4ms/step - loss: 2.9228 - accuracy: 0.6158\n",
            "Epoch 249/500\n",
            "8/8 [==============================] - 0s 4ms/step - loss: 2.9131 - accuracy: 0.6091\n",
            "Epoch 250/500\n",
            "8/8 [==============================] - 0s 4ms/step - loss: 2.7713 - accuracy: 0.6400\n",
            "Epoch 251/500\n",
            "8/8 [==============================] - 0s 4ms/step - loss: 2.9049 - accuracy: 0.5889\n",
            "Epoch 252/500\n",
            "8/8 [==============================] - 0s 5ms/step - loss: 2.9183 - accuracy: 0.6153\n",
            "Epoch 253/500\n",
            "8/8 [==============================] - 0s 4ms/step - loss: 2.9099 - accuracy: 0.6081\n",
            "Epoch 254/500\n",
            "8/8 [==============================] - 0s 4ms/step - loss: 2.8570 - accuracy: 0.5983\n",
            "Epoch 255/500\n",
            "8/8 [==============================] - 0s 4ms/step - loss: 2.8389 - accuracy: 0.6002\n",
            "Epoch 256/500\n",
            "8/8 [==============================] - 0s 4ms/step - loss: 2.8495 - accuracy: 0.6183\n",
            "Epoch 257/500\n",
            "8/8 [==============================] - 0s 4ms/step - loss: 2.9001 - accuracy: 0.6014\n",
            "Epoch 258/500\n",
            "8/8 [==============================] - 0s 5ms/step - loss: 2.9239 - accuracy: 0.6148\n",
            "Epoch 259/500\n",
            "8/8 [==============================] - 0s 4ms/step - loss: 2.9667 - accuracy: 0.5936\n",
            "Epoch 260/500\n",
            "8/8 [==============================] - 0s 3ms/step - loss: 2.9167 - accuracy: 0.5955\n",
            "Epoch 261/500\n",
            "8/8 [==============================] - 0s 4ms/step - loss: 2.9136 - accuracy: 0.6151\n",
            "Epoch 262/500\n",
            "8/8 [==============================] - 0s 4ms/step - loss: 2.8113 - accuracy: 0.6179\n",
            "Epoch 263/500\n",
            "8/8 [==============================] - 0s 5ms/step - loss: 2.8052 - accuracy: 0.5948\n",
            "Epoch 264/500\n",
            "8/8 [==============================] - 0s 5ms/step - loss: 2.8108 - accuracy: 0.6012\n",
            "Epoch 265/500\n",
            "8/8 [==============================] - 0s 4ms/step - loss: 2.8082 - accuracy: 0.6028\n",
            "Epoch 266/500\n",
            "8/8 [==============================] - 0s 4ms/step - loss: 2.8261 - accuracy: 0.5645\n",
            "Epoch 267/500\n",
            "8/8 [==============================] - 0s 4ms/step - loss: 2.8076 - accuracy: 0.5844\n",
            "Epoch 268/500\n",
            "8/8 [==============================] - 0s 4ms/step - loss: 2.8016 - accuracy: 0.6190\n",
            "Epoch 269/500\n",
            "8/8 [==============================] - 0s 4ms/step - loss: 2.7434 - accuracy: 0.6100\n",
            "Epoch 270/500\n",
            "8/8 [==============================] - 0s 4ms/step - loss: 2.6081 - accuracy: 0.6398\n",
            "Epoch 271/500\n",
            "8/8 [==============================] - 0s 4ms/step - loss: 2.6959 - accuracy: 0.6133\n",
            "Epoch 272/500\n",
            "8/8 [==============================] - 0s 3ms/step - loss: 2.8030 - accuracy: 0.6118\n",
            "Epoch 273/500\n",
            "8/8 [==============================] - 0s 4ms/step - loss: 2.7434 - accuracy: 0.6149\n",
            "Epoch 274/500\n",
            "8/8 [==============================] - 0s 4ms/step - loss: 2.6417 - accuracy: 0.6321\n",
            "Epoch 275/500\n",
            "8/8 [==============================] - 0s 3ms/step - loss: 2.7609 - accuracy: 0.6179\n",
            "Epoch 276/500\n",
            "8/8 [==============================] - 0s 4ms/step - loss: 2.7959 - accuracy: 0.6207\n",
            "Epoch 277/500\n",
            "8/8 [==============================] - 0s 4ms/step - loss: 2.8907 - accuracy: 0.5850\n",
            "Epoch 278/500\n",
            "8/8 [==============================] - 0s 5ms/step - loss: 2.6808 - accuracy: 0.6256\n",
            "Epoch 279/500\n",
            "8/8 [==============================] - 0s 4ms/step - loss: 2.5938 - accuracy: 0.6480\n",
            "Epoch 280/500\n",
            "8/8 [==============================] - 0s 4ms/step - loss: 2.7057 - accuracy: 0.6366\n",
            "Epoch 281/500\n",
            "8/8 [==============================] - 0s 5ms/step - loss: 2.6938 - accuracy: 0.6201\n",
            "Epoch 282/500\n",
            "8/8 [==============================] - 0s 4ms/step - loss: 2.8024 - accuracy: 0.6116\n",
            "Epoch 283/500\n",
            "8/8 [==============================] - 0s 4ms/step - loss: 2.5074 - accuracy: 0.6732\n",
            "Epoch 284/500\n",
            "8/8 [==============================] - 0s 4ms/step - loss: 2.6828 - accuracy: 0.6425\n",
            "Epoch 285/500\n",
            "8/8 [==============================] - 0s 3ms/step - loss: 2.6482 - accuracy: 0.6487\n",
            "Epoch 286/500\n",
            "8/8 [==============================] - 0s 4ms/step - loss: 2.6293 - accuracy: 0.6442\n",
            "Epoch 287/500\n",
            "8/8 [==============================] - 0s 5ms/step - loss: 2.6690 - accuracy: 0.6193\n",
            "Epoch 288/500\n",
            "8/8 [==============================] - 0s 4ms/step - loss: 2.5923 - accuracy: 0.6669\n",
            "Epoch 289/500\n",
            "8/8 [==============================] - 0s 3ms/step - loss: 2.8054 - accuracy: 0.6249\n",
            "Epoch 290/500\n",
            "8/8 [==============================] - 0s 4ms/step - loss: 2.7019 - accuracy: 0.6285\n",
            "Epoch 291/500\n",
            "8/8 [==============================] - 0s 4ms/step - loss: 2.7734 - accuracy: 0.6241\n",
            "Epoch 292/500\n",
            "8/8 [==============================] - 0s 4ms/step - loss: 2.6701 - accuracy: 0.6639\n",
            "Epoch 293/500\n",
            "8/8 [==============================] - 0s 4ms/step - loss: 2.5521 - accuracy: 0.6608\n",
            "Epoch 294/500\n",
            "8/8 [==============================] - 0s 4ms/step - loss: 2.6896 - accuracy: 0.6307\n",
            "Epoch 295/500\n",
            "8/8 [==============================] - 0s 4ms/step - loss: 2.6852 - accuracy: 0.6502\n",
            "Epoch 296/500\n",
            "8/8 [==============================] - 0s 5ms/step - loss: 2.6010 - accuracy: 0.6712\n",
            "Epoch 297/500\n",
            "8/8 [==============================] - 0s 5ms/step - loss: 2.5185 - accuracy: 0.6718\n",
            "Epoch 298/500\n",
            "8/8 [==============================] - 0s 3ms/step - loss: 2.5628 - accuracy: 0.6743\n",
            "Epoch 299/500\n",
            "8/8 [==============================] - 0s 4ms/step - loss: 2.6799 - accuracy: 0.6479\n",
            "Epoch 300/500\n",
            "8/8 [==============================] - 0s 4ms/step - loss: 2.5402 - accuracy: 0.6679\n",
            "Epoch 301/500\n",
            "8/8 [==============================] - 0s 4ms/step - loss: 2.7348 - accuracy: 0.6839\n",
            "Epoch 302/500\n",
            "8/8 [==============================] - 0s 5ms/step - loss: 2.5082 - accuracy: 0.6727\n",
            "Epoch 303/500\n",
            "8/8 [==============================] - 0s 4ms/step - loss: 2.5108 - accuracy: 0.6662\n",
            "Epoch 304/500\n",
            "8/8 [==============================] - 0s 4ms/step - loss: 2.5119 - accuracy: 0.6737\n",
            "Epoch 305/500\n",
            "8/8 [==============================] - 0s 5ms/step - loss: 2.5698 - accuracy: 0.6749\n",
            "Epoch 306/500\n",
            "8/8 [==============================] - 0s 3ms/step - loss: 2.5372 - accuracy: 0.6675\n",
            "Epoch 307/500\n",
            "8/8 [==============================] - 0s 4ms/step - loss: 2.5524 - accuracy: 0.6502\n",
            "Epoch 308/500\n",
            "8/8 [==============================] - 0s 3ms/step - loss: 2.5542 - accuracy: 0.6739\n",
            "Epoch 309/500\n",
            "8/8 [==============================] - 0s 3ms/step - loss: 2.6867 - accuracy: 0.6564\n",
            "Epoch 310/500\n",
            "8/8 [==============================] - 0s 4ms/step - loss: 2.5515 - accuracy: 0.6815\n",
            "Epoch 311/500\n",
            "8/8 [==============================] - 0s 5ms/step - loss: 2.6114 - accuracy: 0.6537\n",
            "Epoch 312/500\n",
            "8/8 [==============================] - 0s 4ms/step - loss: 2.6180 - accuracy: 0.6789\n",
            "Epoch 313/500\n",
            "8/8 [==============================] - 0s 4ms/step - loss: 2.5323 - accuracy: 0.6798\n",
            "Epoch 314/500\n",
            "8/8 [==============================] - 0s 4ms/step - loss: 2.3377 - accuracy: 0.6949\n",
            "Epoch 315/500\n",
            "8/8 [==============================] - 0s 5ms/step - loss: 2.5077 - accuracy: 0.6673\n",
            "Epoch 316/500\n",
            "8/8 [==============================] - 0s 4ms/step - loss: 2.4869 - accuracy: 0.6928\n",
            "Epoch 317/500\n",
            "8/8 [==============================] - 0s 5ms/step - loss: 2.5024 - accuracy: 0.6909\n",
            "Epoch 318/500\n",
            "8/8 [==============================] - 0s 4ms/step - loss: 2.4741 - accuracy: 0.6586\n",
            "Epoch 319/500\n",
            "8/8 [==============================] - 0s 4ms/step - loss: 2.4550 - accuracy: 0.6705\n",
            "Epoch 320/500\n",
            "8/8 [==============================] - 0s 4ms/step - loss: 2.4468 - accuracy: 0.6629\n",
            "Epoch 321/500\n",
            "8/8 [==============================] - 0s 5ms/step - loss: 2.5624 - accuracy: 0.6549\n",
            "Epoch 322/500\n",
            "8/8 [==============================] - 0s 4ms/step - loss: 2.4450 - accuracy: 0.6683\n",
            "Epoch 323/500\n",
            "8/8 [==============================] - 0s 4ms/step - loss: 2.3028 - accuracy: 0.7091\n",
            "Epoch 324/500\n",
            "8/8 [==============================] - 0s 3ms/step - loss: 2.3787 - accuracy: 0.7375\n",
            "Epoch 325/500\n",
            "8/8 [==============================] - 0s 4ms/step - loss: 2.5251 - accuracy: 0.6499\n",
            "Epoch 326/500\n",
            "8/8 [==============================] - 0s 5ms/step - loss: 2.4659 - accuracy: 0.6729\n",
            "Epoch 327/500\n",
            "8/8 [==============================] - 0s 4ms/step - loss: 2.3455 - accuracy: 0.6818\n",
            "Epoch 328/500\n",
            "8/8 [==============================] - 0s 4ms/step - loss: 2.5130 - accuracy: 0.6636\n",
            "Epoch 329/500\n",
            "8/8 [==============================] - 0s 5ms/step - loss: 2.3352 - accuracy: 0.6874\n",
            "Epoch 330/500\n",
            "8/8 [==============================] - 0s 4ms/step - loss: 2.4587 - accuracy: 0.6815\n",
            "Epoch 331/500\n",
            "8/8 [==============================] - 0s 5ms/step - loss: 2.3314 - accuracy: 0.6877\n",
            "Epoch 332/500\n",
            "8/8 [==============================] - 0s 4ms/step - loss: 2.4651 - accuracy: 0.6568\n",
            "Epoch 333/500\n",
            "8/8 [==============================] - 0s 4ms/step - loss: 2.3938 - accuracy: 0.6572\n",
            "Epoch 334/500\n",
            "8/8 [==============================] - 0s 5ms/step - loss: 2.2743 - accuracy: 0.7293\n",
            "Epoch 335/500\n",
            "8/8 [==============================] - 0s 4ms/step - loss: 2.4120 - accuracy: 0.6955\n",
            "Epoch 336/500\n",
            "8/8 [==============================] - 0s 5ms/step - loss: 2.2885 - accuracy: 0.7231\n",
            "Epoch 337/500\n",
            "8/8 [==============================] - 0s 4ms/step - loss: 2.3423 - accuracy: 0.7111\n",
            "Epoch 338/500\n",
            "8/8 [==============================] - 0s 5ms/step - loss: 2.4021 - accuracy: 0.6920\n",
            "Epoch 339/500\n",
            "8/8 [==============================] - 0s 4ms/step - loss: 2.3818 - accuracy: 0.6793\n",
            "Epoch 340/500\n",
            "8/8 [==============================] - 0s 5ms/step - loss: 2.1648 - accuracy: 0.7310\n",
            "Epoch 341/500\n",
            "8/8 [==============================] - 0s 4ms/step - loss: 2.4163 - accuracy: 0.6788\n",
            "Epoch 342/500\n",
            "8/8 [==============================] - 0s 4ms/step - loss: 2.3953 - accuracy: 0.6724\n",
            "Epoch 343/500\n",
            "8/8 [==============================] - 0s 4ms/step - loss: 2.3339 - accuracy: 0.7111\n",
            "Epoch 344/500\n",
            "8/8 [==============================] - 0s 4ms/step - loss: 2.1604 - accuracy: 0.7209\n",
            "Epoch 345/500\n",
            "8/8 [==============================] - 0s 4ms/step - loss: 2.2718 - accuracy: 0.6977\n",
            "Epoch 346/500\n",
            "8/8 [==============================] - 0s 5ms/step - loss: 2.2634 - accuracy: 0.7128\n",
            "Epoch 347/500\n",
            "8/8 [==============================] - 0s 4ms/step - loss: 2.2616 - accuracy: 0.7308\n",
            "Epoch 348/500\n",
            "8/8 [==============================] - 0s 4ms/step - loss: 2.3471 - accuracy: 0.7183\n",
            "Epoch 349/500\n",
            "8/8 [==============================] - 0s 4ms/step - loss: 2.3379 - accuracy: 0.6858\n",
            "Epoch 350/500\n",
            "8/8 [==============================] - 0s 5ms/step - loss: 2.2182 - accuracy: 0.7106\n",
            "Epoch 351/500\n",
            "8/8 [==============================] - 0s 4ms/step - loss: 2.2924 - accuracy: 0.6986\n",
            "Epoch 352/500\n",
            "8/8 [==============================] - 0s 4ms/step - loss: 2.2101 - accuracy: 0.7161\n",
            "Epoch 353/500\n",
            "8/8 [==============================] - 0s 4ms/step - loss: 2.1846 - accuracy: 0.7378\n",
            "Epoch 354/500\n",
            "8/8 [==============================] - 0s 4ms/step - loss: 2.2745 - accuracy: 0.6890\n",
            "Epoch 355/500\n",
            "8/8 [==============================] - 0s 3ms/step - loss: 2.3572 - accuracy: 0.6931\n",
            "Epoch 356/500\n",
            "8/8 [==============================] - 0s 4ms/step - loss: 2.3309 - accuracy: 0.6667\n",
            "Epoch 357/500\n",
            "8/8 [==============================] - 0s 4ms/step - loss: 2.3782 - accuracy: 0.6969\n",
            "Epoch 358/500\n",
            "8/8 [==============================] - 0s 4ms/step - loss: 2.3380 - accuracy: 0.7016\n",
            "Epoch 359/500\n",
            "8/8 [==============================] - 0s 5ms/step - loss: 2.2743 - accuracy: 0.7264\n",
            "Epoch 360/500\n",
            "8/8 [==============================] - 0s 4ms/step - loss: 2.3737 - accuracy: 0.6753\n",
            "Epoch 361/500\n",
            "8/8 [==============================] - 0s 5ms/step - loss: 2.3299 - accuracy: 0.7183\n",
            "Epoch 362/500\n",
            "8/8 [==============================] - 0s 4ms/step - loss: 2.1029 - accuracy: 0.7712\n",
            "Epoch 363/500\n",
            "8/8 [==============================] - 0s 4ms/step - loss: 2.2893 - accuracy: 0.7009\n",
            "Epoch 364/500\n",
            "8/8 [==============================] - 0s 4ms/step - loss: 2.2959 - accuracy: 0.7137\n",
            "Epoch 365/500\n",
            "8/8 [==============================] - 0s 4ms/step - loss: 2.1921 - accuracy: 0.6972\n",
            "Epoch 366/500\n",
            "8/8 [==============================] - 0s 5ms/step - loss: 2.1643 - accuracy: 0.7413\n",
            "Epoch 367/500\n",
            "8/8 [==============================] - 0s 4ms/step - loss: 2.2239 - accuracy: 0.7226\n",
            "Epoch 368/500\n",
            "8/8 [==============================] - 0s 4ms/step - loss: 2.2493 - accuracy: 0.7408\n",
            "Epoch 369/500\n",
            "8/8 [==============================] - 0s 5ms/step - loss: 2.1947 - accuracy: 0.7401\n",
            "Epoch 370/500\n",
            "8/8 [==============================] - 0s 4ms/step - loss: 2.1539 - accuracy: 0.7419\n",
            "Epoch 371/500\n",
            "8/8 [==============================] - 0s 5ms/step - loss: 2.3533 - accuracy: 0.6918\n",
            "Epoch 372/500\n",
            "8/8 [==============================] - 0s 5ms/step - loss: 2.1397 - accuracy: 0.7128\n",
            "Epoch 373/500\n",
            "8/8 [==============================] - 0s 6ms/step - loss: 2.1559 - accuracy: 0.7438\n",
            "Epoch 374/500\n",
            "8/8 [==============================] - 0s 5ms/step - loss: 2.2876 - accuracy: 0.6978\n",
            "Epoch 375/500\n",
            "8/8 [==============================] - 0s 5ms/step - loss: 2.1459 - accuracy: 0.7170\n",
            "Epoch 376/500\n",
            "8/8 [==============================] - 0s 4ms/step - loss: 2.2503 - accuracy: 0.7318\n",
            "Epoch 377/500\n",
            "8/8 [==============================] - 0s 5ms/step - loss: 2.1628 - accuracy: 0.7417\n",
            "Epoch 378/500\n",
            "8/8 [==============================] - 0s 5ms/step - loss: 2.1800 - accuracy: 0.7052\n",
            "Epoch 379/500\n",
            "8/8 [==============================] - 0s 5ms/step - loss: 2.1163 - accuracy: 0.7605\n",
            "Epoch 380/500\n",
            "8/8 [==============================] - 0s 4ms/step - loss: 2.0886 - accuracy: 0.7213\n",
            "Epoch 381/500\n",
            "8/8 [==============================] - 0s 6ms/step - loss: 2.0627 - accuracy: 0.7383\n",
            "Epoch 382/500\n",
            "8/8 [==============================] - 0s 4ms/step - loss: 2.1251 - accuracy: 0.7307\n",
            "Epoch 383/500\n",
            "8/8 [==============================] - 0s 5ms/step - loss: 2.2757 - accuracy: 0.7075\n",
            "Epoch 384/500\n",
            "8/8 [==============================] - 0s 4ms/step - loss: 2.3449 - accuracy: 0.6801\n",
            "Epoch 385/500\n",
            "8/8 [==============================] - 0s 5ms/step - loss: 2.0507 - accuracy: 0.7593\n",
            "Epoch 386/500\n",
            "8/8 [==============================] - 0s 4ms/step - loss: 2.1110 - accuracy: 0.7116\n",
            "Epoch 387/500\n",
            "8/8 [==============================] - 0s 4ms/step - loss: 1.9858 - accuracy: 0.7582\n",
            "Epoch 388/500\n",
            "8/8 [==============================] - 0s 4ms/step - loss: 2.1804 - accuracy: 0.7513\n",
            "Epoch 389/500\n",
            "8/8 [==============================] - 0s 4ms/step - loss: 2.1765 - accuracy: 0.7223\n",
            "Epoch 390/500\n",
            "8/8 [==============================] - 0s 4ms/step - loss: 2.1142 - accuracy: 0.7445\n",
            "Epoch 391/500\n",
            "8/8 [==============================] - 0s 4ms/step - loss: 2.1467 - accuracy: 0.7183\n",
            "Epoch 392/500\n",
            "8/8 [==============================] - 0s 5ms/step - loss: 2.1702 - accuracy: 0.7190\n",
            "Epoch 393/500\n",
            "8/8 [==============================] - 0s 4ms/step - loss: 2.1152 - accuracy: 0.7271\n",
            "Epoch 394/500\n",
            "8/8 [==============================] - 0s 5ms/step - loss: 2.0715 - accuracy: 0.7265\n",
            "Epoch 395/500\n",
            "8/8 [==============================] - 0s 4ms/step - loss: 2.1251 - accuracy: 0.7308\n",
            "Epoch 396/500\n",
            "8/8 [==============================] - 0s 4ms/step - loss: 1.9902 - accuracy: 0.7451\n",
            "Epoch 397/500\n",
            "8/8 [==============================] - 0s 4ms/step - loss: 2.1217 - accuracy: 0.7373\n",
            "Epoch 398/500\n",
            "8/8 [==============================] - 0s 4ms/step - loss: 2.1378 - accuracy: 0.7120\n",
            "Epoch 399/500\n",
            "8/8 [==============================] - 0s 4ms/step - loss: 2.1422 - accuracy: 0.7031\n",
            "Epoch 400/500\n",
            "8/8 [==============================] - 0s 4ms/step - loss: 2.1587 - accuracy: 0.7162\n",
            "Epoch 401/500\n",
            "8/8 [==============================] - 0s 4ms/step - loss: 2.1010 - accuracy: 0.7299\n",
            "Epoch 402/500\n",
            "8/8 [==============================] - 0s 5ms/step - loss: 2.1508 - accuracy: 0.7298\n",
            "Epoch 403/500\n",
            "8/8 [==============================] - 0s 6ms/step - loss: 2.1802 - accuracy: 0.7121\n",
            "Epoch 404/500\n",
            "8/8 [==============================] - 0s 4ms/step - loss: 2.0700 - accuracy: 0.7173\n",
            "Epoch 405/500\n",
            "8/8 [==============================] - 0s 5ms/step - loss: 2.0726 - accuracy: 0.7276\n",
            "Epoch 406/500\n",
            "8/8 [==============================] - 0s 4ms/step - loss: 2.0405 - accuracy: 0.7267\n",
            "Epoch 407/500\n",
            "8/8 [==============================] - 0s 4ms/step - loss: 1.9923 - accuracy: 0.7429\n",
            "Epoch 408/500\n",
            "8/8 [==============================] - 0s 4ms/step - loss: 2.0828 - accuracy: 0.7179\n",
            "Epoch 409/500\n",
            "8/8 [==============================] - 0s 4ms/step - loss: 2.1454 - accuracy: 0.7197\n",
            "Epoch 410/500\n",
            "8/8 [==============================] - 0s 5ms/step - loss: 1.9870 - accuracy: 0.7421\n",
            "Epoch 411/500\n",
            "8/8 [==============================] - 0s 4ms/step - loss: 2.1236 - accuracy: 0.7165\n",
            "Epoch 412/500\n",
            "8/8 [==============================] - 0s 4ms/step - loss: 2.0051 - accuracy: 0.7381\n",
            "Epoch 413/500\n",
            "8/8 [==============================] - 0s 4ms/step - loss: 1.9907 - accuracy: 0.7521\n",
            "Epoch 414/500\n",
            "8/8 [==============================] - 0s 5ms/step - loss: 1.9557 - accuracy: 0.7447\n",
            "Epoch 415/500\n",
            "8/8 [==============================] - 0s 3ms/step - loss: 2.1144 - accuracy: 0.7041\n",
            "Epoch 416/500\n",
            "8/8 [==============================] - 0s 4ms/step - loss: 2.0407 - accuracy: 0.7385\n",
            "Epoch 417/500\n",
            "8/8 [==============================] - 0s 4ms/step - loss: 1.9195 - accuracy: 0.7801\n",
            "Epoch 418/500\n",
            "8/8 [==============================] - 0s 5ms/step - loss: 1.9991 - accuracy: 0.7261\n",
            "Epoch 419/500\n",
            "8/8 [==============================] - 0s 5ms/step - loss: 1.8548 - accuracy: 0.7517\n",
            "Epoch 420/500\n",
            "8/8 [==============================] - 0s 5ms/step - loss: 2.0063 - accuracy: 0.7317\n",
            "Epoch 421/500\n",
            "8/8 [==============================] - 0s 4ms/step - loss: 1.9475 - accuracy: 0.7471\n",
            "Epoch 422/500\n",
            "8/8 [==============================] - 0s 4ms/step - loss: 1.9172 - accuracy: 0.7532\n",
            "Epoch 423/500\n",
            "8/8 [==============================] - 0s 4ms/step - loss: 2.0146 - accuracy: 0.7331\n",
            "Epoch 424/500\n",
            "8/8 [==============================] - 0s 3ms/step - loss: 1.8780 - accuracy: 0.7749\n",
            "Epoch 425/500\n",
            "8/8 [==============================] - 0s 5ms/step - loss: 2.0468 - accuracy: 0.7354\n",
            "Epoch 426/500\n",
            "8/8 [==============================] - 0s 5ms/step - loss: 1.9373 - accuracy: 0.7474\n",
            "Epoch 427/500\n",
            "8/8 [==============================] - 0s 4ms/step - loss: 1.9367 - accuracy: 0.7485\n",
            "Epoch 428/500\n",
            "8/8 [==============================] - 0s 5ms/step - loss: 2.0298 - accuracy: 0.7375\n",
            "Epoch 429/500\n",
            "8/8 [==============================] - 0s 4ms/step - loss: 2.0002 - accuracy: 0.7292\n",
            "Epoch 430/500\n",
            "8/8 [==============================] - 0s 5ms/step - loss: 1.8890 - accuracy: 0.7653\n",
            "Epoch 431/500\n",
            "8/8 [==============================] - 0s 5ms/step - loss: 2.0018 - accuracy: 0.7470\n",
            "Epoch 432/500\n",
            "8/8 [==============================] - 0s 5ms/step - loss: 1.9480 - accuracy: 0.7522\n",
            "Epoch 433/500\n",
            "8/8 [==============================] - 0s 4ms/step - loss: 2.0602 - accuracy: 0.7249\n",
            "Epoch 434/500\n",
            "8/8 [==============================] - 0s 6ms/step - loss: 1.9011 - accuracy: 0.7677\n",
            "Epoch 435/500\n",
            "8/8 [==============================] - 0s 5ms/step - loss: 2.0131 - accuracy: 0.7299\n",
            "Epoch 436/500\n",
            "8/8 [==============================] - 0s 4ms/step - loss: 2.0687 - accuracy: 0.7220\n",
            "Epoch 437/500\n",
            "8/8 [==============================] - 0s 4ms/step - loss: 1.9673 - accuracy: 0.7416\n",
            "Epoch 438/500\n",
            "8/8 [==============================] - 0s 5ms/step - loss: 1.9718 - accuracy: 0.7374\n",
            "Epoch 439/500\n",
            "8/8 [==============================] - 0s 4ms/step - loss: 1.9776 - accuracy: 0.7438\n",
            "Epoch 440/500\n",
            "8/8 [==============================] - 0s 4ms/step - loss: 1.8711 - accuracy: 0.7497\n",
            "Epoch 441/500\n",
            "8/8 [==============================] - 0s 6ms/step - loss: 2.0793 - accuracy: 0.7342\n",
            "Epoch 442/500\n",
            "8/8 [==============================] - 0s 4ms/step - loss: 1.7574 - accuracy: 0.7677\n",
            "Epoch 443/500\n",
            "8/8 [==============================] - 0s 4ms/step - loss: 1.8421 - accuracy: 0.7476\n",
            "Epoch 444/500\n",
            "8/8 [==============================] - 0s 5ms/step - loss: 1.9837 - accuracy: 0.7486\n",
            "Epoch 445/500\n",
            "8/8 [==============================] - 0s 4ms/step - loss: 1.7368 - accuracy: 0.7891\n",
            "Epoch 446/500\n",
            "8/8 [==============================] - 0s 6ms/step - loss: 1.8529 - accuracy: 0.7533\n",
            "Epoch 447/500\n",
            "8/8 [==============================] - 0s 4ms/step - loss: 1.9452 - accuracy: 0.7486\n",
            "Epoch 448/500\n",
            "8/8 [==============================] - 0s 5ms/step - loss: 1.7585 - accuracy: 0.7720\n",
            "Epoch 449/500\n",
            "8/8 [==============================] - 0s 5ms/step - loss: 1.8272 - accuracy: 0.7603\n",
            "Epoch 450/500\n",
            "8/8 [==============================] - 0s 5ms/step - loss: 1.9874 - accuracy: 0.7322\n",
            "Epoch 451/500\n",
            "8/8 [==============================] - 0s 4ms/step - loss: 1.8443 - accuracy: 0.7512\n",
            "Epoch 452/500\n",
            "8/8 [==============================] - 0s 5ms/step - loss: 1.7913 - accuracy: 0.7583\n",
            "Epoch 453/500\n",
            "8/8 [==============================] - 0s 5ms/step - loss: 1.8626 - accuracy: 0.7703\n",
            "Epoch 454/500\n",
            "8/8 [==============================] - 0s 5ms/step - loss: 1.8610 - accuracy: 0.7432\n",
            "Epoch 455/500\n",
            "8/8 [==============================] - 0s 5ms/step - loss: 1.9325 - accuracy: 0.7464\n",
            "Epoch 456/500\n",
            "8/8 [==============================] - 0s 6ms/step - loss: 1.7988 - accuracy: 0.7467\n",
            "Epoch 457/500\n",
            "8/8 [==============================] - 0s 4ms/step - loss: 1.7916 - accuracy: 0.7555\n",
            "Epoch 458/500\n",
            "8/8 [==============================] - 0s 4ms/step - loss: 1.9595 - accuracy: 0.7198\n",
            "Epoch 459/500\n",
            "8/8 [==============================] - 0s 5ms/step - loss: 1.9235 - accuracy: 0.7253\n",
            "Epoch 460/500\n",
            "8/8 [==============================] - 0s 4ms/step - loss: 1.8660 - accuracy: 0.7665\n",
            "Epoch 461/500\n",
            "8/8 [==============================] - 0s 4ms/step - loss: 1.9740 - accuracy: 0.7217\n",
            "Epoch 462/500\n",
            "8/8 [==============================] - 0s 6ms/step - loss: 1.7911 - accuracy: 0.7540\n",
            "Epoch 463/500\n",
            "8/8 [==============================] - 0s 3ms/step - loss: 1.7467 - accuracy: 0.7678\n",
            "Epoch 464/500\n",
            "8/8 [==============================] - 0s 5ms/step - loss: 1.9334 - accuracy: 0.7221\n",
            "Epoch 465/500\n",
            "8/8 [==============================] - 0s 5ms/step - loss: 1.7385 - accuracy: 0.7435\n",
            "Epoch 466/500\n",
            "8/8 [==============================] - 0s 3ms/step - loss: 1.7238 - accuracy: 0.7704\n",
            "Epoch 467/500\n",
            "8/8 [==============================] - 0s 4ms/step - loss: 1.8176 - accuracy: 0.7489\n",
            "Epoch 468/500\n",
            "8/8 [==============================] - 0s 4ms/step - loss: 1.8209 - accuracy: 0.7749\n",
            "Epoch 469/500\n",
            "8/8 [==============================] - 0s 4ms/step - loss: 1.9199 - accuracy: 0.7469\n",
            "Epoch 470/500\n",
            "8/8 [==============================] - 0s 4ms/step - loss: 1.9208 - accuracy: 0.7175\n",
            "Epoch 471/500\n",
            "8/8 [==============================] - 0s 4ms/step - loss: 1.9359 - accuracy: 0.7404\n",
            "Epoch 472/500\n",
            "8/8 [==============================] - 0s 4ms/step - loss: 1.9775 - accuracy: 0.7192\n",
            "Epoch 473/500\n",
            "8/8 [==============================] - 0s 5ms/step - loss: 1.9854 - accuracy: 0.7180\n",
            "Epoch 474/500\n",
            "8/8 [==============================] - 0s 4ms/step - loss: 1.7713 - accuracy: 0.7361\n",
            "Epoch 475/500\n",
            "8/8 [==============================] - 0s 4ms/step - loss: 1.8569 - accuracy: 0.7513\n",
            "Epoch 476/500\n",
            "8/8 [==============================] - 0s 4ms/step - loss: 1.8592 - accuracy: 0.7270\n",
            "Epoch 477/500\n",
            "8/8 [==============================] - 0s 5ms/step - loss: 1.9217 - accuracy: 0.7359\n",
            "Epoch 478/500\n",
            "8/8 [==============================] - 0s 4ms/step - loss: 1.7385 - accuracy: 0.7608\n",
            "Epoch 479/500\n",
            "8/8 [==============================] - 0s 4ms/step - loss: 1.7664 - accuracy: 0.7475\n",
            "Epoch 480/500\n",
            "8/8 [==============================] - 0s 4ms/step - loss: 1.7198 - accuracy: 0.7705\n",
            "Epoch 481/500\n",
            "8/8 [==============================] - 0s 4ms/step - loss: 1.8551 - accuracy: 0.7456\n",
            "Epoch 482/500\n",
            "8/8 [==============================] - 0s 3ms/step - loss: 1.8219 - accuracy: 0.7479\n",
            "Epoch 483/500\n",
            "8/8 [==============================] - 0s 4ms/step - loss: 1.6900 - accuracy: 0.7776\n",
            "Epoch 484/500\n",
            "8/8 [==============================] - 0s 4ms/step - loss: 1.7969 - accuracy: 0.7705\n",
            "Epoch 485/500\n",
            "8/8 [==============================] - 0s 4ms/step - loss: 1.8270 - accuracy: 0.7292\n",
            "Epoch 486/500\n",
            "8/8 [==============================] - 0s 5ms/step - loss: 1.7510 - accuracy: 0.7524\n",
            "Epoch 487/500\n",
            "8/8 [==============================] - 0s 4ms/step - loss: 1.8938 - accuracy: 0.7456\n",
            "Epoch 488/500\n",
            "8/8 [==============================] - 0s 4ms/step - loss: 1.8984 - accuracy: 0.7235\n",
            "Epoch 489/500\n",
            "8/8 [==============================] - 0s 4ms/step - loss: 1.8219 - accuracy: 0.7428\n",
            "Epoch 490/500\n",
            "8/8 [==============================] - 0s 5ms/step - loss: 1.7786 - accuracy: 0.7613\n",
            "Epoch 491/500\n",
            "8/8 [==============================] - 0s 4ms/step - loss: 1.7086 - accuracy: 0.7519\n",
            "Epoch 492/500\n",
            "8/8 [==============================] - 0s 4ms/step - loss: 1.7632 - accuracy: 0.7712\n",
            "Epoch 493/500\n",
            "8/8 [==============================] - 0s 4ms/step - loss: 1.7152 - accuracy: 0.7596\n",
            "Epoch 494/500\n",
            "8/8 [==============================] - 0s 4ms/step - loss: 1.8781 - accuracy: 0.7068\n",
            "Epoch 495/500\n",
            "8/8 [==============================] - 0s 4ms/step - loss: 1.7533 - accuracy: 0.7648\n",
            "Epoch 496/500\n",
            "8/8 [==============================] - 0s 3ms/step - loss: 1.7599 - accuracy: 0.7233\n",
            "Epoch 497/500\n",
            "8/8 [==============================] - 0s 5ms/step - loss: 1.9758 - accuracy: 0.7297\n",
            "Epoch 498/500\n",
            "8/8 [==============================] - 0s 4ms/step - loss: 1.8249 - accuracy: 0.7285\n",
            "Epoch 499/500\n",
            "8/8 [==============================] - 0s 4ms/step - loss: 1.8066 - accuracy: 0.7469\n",
            "Epoch 500/500\n",
            "8/8 [==============================] - 0s 4ms/step - loss: 1.6841 - accuracy: 0.7635\n"
          ],
          "name": "stdout"
        }
      ]
    },
    {
      "cell_type": "code",
      "metadata": {
        "colab": {
          "base_uri": "https://localhost:8080/",
          "height": 295
        },
        "id": "y6oSEN2Q2aGZ",
        "outputId": "8531c289-f570-4985-a3c2-976ffe984629"
      },
      "source": [
        "import matplotlib.pyplot as plt\n",
        "loss_train = history.history['loss']\n",
        "plt.plot(loss_train, 'g', label='Training loss')\n",
        "plt.title('Training and Validation loss')\n",
        "plt.xlabel('Epochs')\n",
        "plt.ylabel('Loss')\n",
        "plt.legend()\n",
        "plt.show()"
      ],
      "execution_count": null,
      "outputs": [
        {
          "output_type": "display_data",
          "data": {
            "image/png": "[encoded data removed]",
            "text/plain": [
              "<Figure size 432x288 with 1 Axes>"
            ]
          },
          "metadata": {
            "tags": [],
            "needs_background": "light"
          }
        }
      ]
    },
    {
      "cell_type": "code",
      "metadata": {
        "colab": {
          "base_uri": "https://localhost:8080/"
        },
        "id": "USYl4vz9gzaf",
        "outputId": "3fa3ed10-60f7-4c6b-e3a5-57b5e5d34414"
      },
      "source": [
        "i=69\n",
        "y = model.predict(benefits[i])\n",
        "z = np.sum(y,axis=0)\n",
        "z = z/50\n",
        "asan[i]"
      ],
      "execution_count": null,
      "outputs": [
        {
          "output_type": "stream",
          "text": [
            "WARNING:tensorflow:Model was constructed with shape (None, 50) for input KerasTensor(type_spec=TensorSpec(shape=(None, 50), dtype=tf.float32, name='embedding_input'), name='embedding_input', description=\"created by layer 'embedding_input'\"), but it was called on an input with incompatible shape (None, 1).\n"
          ],
          "name": "stdout"
        },
        {
          "output_type": "execute_result",
          "data": {
            "text/plain": [
              "array([72])"
            ]
          },
          "metadata": {
            "tags": []
          },
          "execution_count": 61
        }
      ]
    },
    {
      "cell_type": "code",
      "metadata": {
        "colab": {
          "base_uri": "https://localhost:8080/"
        },
        "id": "j4X5VJS69Ho2",
        "outputId": "4dbf088c-ad75-4f94-e990-951ea9b18b5a"
      },
      "source": [
        "max=0\n",
        "max_i=0\n",
        "for i in range(239):\n",
        "  if z[i]>max:\n",
        "    max=z[i]\n",
        "    max_i=i\n",
        "print(max)\n",
        "print(max_i+1)"
      ],
      "execution_count": null,
      "outputs": [
        {
          "output_type": "stream",
          "text": [
            "0.3319436\n",
            "72\n"
          ],
          "name": "stdout"
        }
      ]
    },
    {
      "cell_type": "code",
      "metadata": {
        "id": "xUF0MLQzrvSD"
      },
      "source": [
        "model.save('/content/drive/MyDrive/yrs/weight.h5')"
      ],
      "execution_count": null,
      "outputs": []
    },
    {
      "cell_type": "code",
      "metadata": {
        "id": "igfMRihgrypc",
        "colab": {
          "base_uri": "https://localhost:8080/"
        },
        "outputId": "7dab29af-284b-48d3-8b0f-e402e54cc967"
      },
      "source": [
        "!pip install tfdeploy\n",
        "import tfdeploy as td\n"
      ],
      "execution_count": null,
      "outputs": [
        {
          "output_type": "stream",
          "text": [
            "Collecting tfdeploy\n",
            "  Downloading https://files.pythonhosted.org/packages/e0/f1/bb4f876c9fc083584e8b6dc512ffbb27420be5f207ca4f5545385d86e708/tfdeploy-0.4.2.tar.gz\n",
            "Building wheels for collected packages: tfdeploy\n",
            "  Building wheel for tfdeploy (setup.py) ... \u001b[?25l\u001b[?25hdone\n",
            "  Created wheel for tfdeploy: filename=tfdeploy-0.4.2-cp37-none-any.whl size=14659 sha256=1b6413b71ef2bae139637e4f8dc2d80b635054d402488e20f0c952961b1ab6de\n",
            "  Stored in directory: /root/.cache/pip/wheels/dd/52/76/1cc95fff7cf5f9548f694fb331eb5645e64ba9ea68becfef39\n",
            "Successfully built tfdeploy\n",
            "Installing collected packages: tfdeploy\n",
            "Successfully installed tfdeploy-0.4.2\n"
          ],
          "name": "stdout"
        }
      ]
    },
    {
      "cell_type": "code",
      "metadata": {
        "id": "H2sXo4uMDaAu"
      },
      "source": [],
      "execution_count": null,
      "outputs": []
    }
  ]
}